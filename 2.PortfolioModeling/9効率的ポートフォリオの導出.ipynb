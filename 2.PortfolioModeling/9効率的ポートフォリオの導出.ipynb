{
 "cells": [
  {
   "cell_type": "code",
   "execution_count": 1,
   "metadata": {},
   "outputs": [],
   "source": [
    "import numpy as np\n",
    "import pandas as pd\n",
    "import matplotlib.pyplot as plt\n",
    "import pandas_datareader.data as pdf"
   ]
  },
  {
   "cell_type": "markdown",
   "metadata": {},
   "source": [
    "## 9.4 効率的ポートフォリオの導出\n",
    "包絡線は二つの効率的ポートフォリオから算出できる  \n",
    "効率的ポートフォリオXとYに比率αで投資したときの期待値と分散の組み合わせが包絡線"
   ]
  },
  {
   "cell_type": "markdown",
   "metadata": {},
   "source": [
    "### 1.資産の期待収益と分散共分散行列から効率的ポートフォリオを求める\n",
    "資産は４つと仮定"
   ]
  },
  {
   "cell_type": "code",
   "execution_count": 2,
   "metadata": {},
   "outputs": [],
   "source": [
    "# 分散共分散行列S\n",
    "S = np.array([[0.1,0.01,0.03,0.05],[0.01,0.3,0.06,-0.04],[0.03,0.06,0.4,0.02],[0.05,-0.04,0.02,0.5]])\n",
    "#　期待収益率\n",
    "E = np.array([0.06, 0.08, 0.1, 0.15])\n",
    "#定数c\n",
    "c = 0.04"
   ]
  },
  {
   "cell_type": "code",
   "execution_count": 51,
   "metadata": {},
   "outputs": [],
   "source": [
    "#一つ目の効率的ポートフォリオ\n",
    "#c=0として計算\n",
    "Z = np.dot(np.linalg.inv(S), E)\n",
    "X = Z / np.sum(Z)"
   ]
  },
  {
   "cell_type": "code",
   "execution_count": 54,
   "metadata": {},
   "outputs": [],
   "source": [
    "#二つ目の効率的ポートフォリオ\n",
    "Z = np.dot(np.linalg.inv(S), (E-c))\n",
    "Y = Z/np.sum(Z)"
   ]
  },
  {
   "cell_type": "code",
   "execution_count": 69,
   "metadata": {},
   "outputs": [],
   "source": [
    "#各ポートフォリオの統計量\n",
    "E_X = np.dot(E.T,X)\n",
    "E_Y = np.dot(E.T,Y)\n",
    "var_X = np.dot(np.dot(X.T, S),X)\n",
    "var_Y = np.dot(np.dot(Y.T,S),Y)\n",
    "sigma_X = np.sqrt(var_X)\n",
    "sigma_Y = np.sqrt(var_Y)\n",
    "cov_XY = np.dot(np.dot(X.T, S),Y)\n",
    "corr_XY = cov_XY / (sigma_X*sigma_Y)"
   ]
  },
  {
   "cell_type": "code",
   "execution_count": 85,
   "metadata": {},
   "outputs": [],
   "source": [
    "def port_ret(alpha, E_X, E_Y):\n",
    "    E_port = E_X*alpha + E_Y*(1-alpha)\n",
    "    return E_port\n",
    "\n",
    "def port_vol(alpha, var_X, var_Y, cov_XY):\n",
    "    var_port = np.sqrt(var_X*(alpha**2) + var_Y*((1-alpha)**2) + 2*alpha*(1-alpha)*cov_XY)\n",
    "    return var_port"
   ]
  },
  {
   "cell_type": "code",
   "execution_count": 96,
   "metadata": {},
   "outputs": [],
   "source": [
    "#XとYを比率αで組み合わせる\n",
    "alphas = np.arange(-15, 30, 1) * 0.1\n",
    "std_port = np.zeros(45)\n",
    "E_port = np.zeros(45)\n",
    "for i in range(45):\n",
    "    alpha = alphas[i]\n",
    "    std_port[i] = port_vol(alpha, var_X, var_Y, cov_XY)\n",
    "    E_port[i] = port_ret(alpha, E_X, E_Y)"
   ]
  },
  {
   "cell_type": "code",
   "execution_count": 105,
   "metadata": {},
   "outputs": [],
   "source": [
    "port = pd.DataFrame({\"Expectation\":E_port, \"STD\":std_port}, index=alphas)"
   ]
  },
  {
   "cell_type": "code",
   "execution_count": 110,
   "metadata": {},
   "outputs": [
    {
     "data": {
      "text/plain": [
       "<matplotlib.axes._subplots.AxesSubplot at 0x127068f60>"
      ]
     },
     "execution_count": 110,
     "metadata": {},
     "output_type": "execute_result"
    },
    {
     "data": {
      "image/png": "[encoded data removed]",
      "text/plain": [
       "<Figure size 432x288 with 1 Axes>"
      ]
     },
     "metadata": {
      "needs_background": "light"
     },
     "output_type": "display_data"
    }
   ],
   "source": [
    "port.plot(x=\"STD\",y=\"Expectation\",title=\"Efficient Portfolio\",\n",
    "          xticks=[0.2,0.25,0.30,0.35,0.40,0.45,0.50,0.55,0.6],\n",
    "          yticks=[0.04,0.06,0.08,0.1,0.12,0.14,0.16],\n",
    "         legend=False)"
   ]
  },
  {
   "cell_type": "markdown",
   "metadata": {},
   "source": [
    "### 2.市場ポートフォリオを見つける\n",
    "無リスク資産金利$r_f$が存在するとき、$(0,r_f)$を通り効率的フロンティアに接する直線を市場資本戦(CML)、接点を市場ポートフォリオMと呼ぶ。"
   ]
  },
  {
   "cell_type": "code",
   "execution_count": 117,
   "metadata": {},
   "outputs": [],
   "source": [
    "from scipy import optimize"
   ]
  },
  {
   "cell_type": "code",
   "execution_count": null,
   "metadata": {},
   "outputs": [],
   "source": []
  }
 ],
 "metadata": {
  "kernelspec": {
   "display_name": "Python 3",
   "language": "python",
   "name": "python3"
  },
  "language_info": {
   "codemirror_mode": {
    "name": "ipython",
    "version": 3
   },
   "file_extension": ".py",
   "mimetype": "text/x-python",
   "name": "python",
   "nbconvert_exporter": "python",
   "pygments_lexer": "ipython3",
   "version": "3.7.3"
  }
 },
 "nbformat": 4,
 "nbformat_minor": 2
}
