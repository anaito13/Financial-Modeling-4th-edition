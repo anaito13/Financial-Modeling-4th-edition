{
 "cells": [
  {
   "cell_type": "code",
   "execution_count": 2,
   "metadata": {},
   "outputs": [],
   "source": [
    "import numpy as np\n",
    "import pandas as pd\n",
    "import matplotlib.pyplot as plt\n",
    "import pandas_datareader.data as pdf"
   ]
  },
  {
   "cell_type": "markdown",
   "metadata": {},
   "source": [
    "## 包絡線は二つの効率的ポートフォリオから算出できる\n",
    "効率的ポートフォリオXとYに比率αで投資したときの期待値と分散の組み合わせが包絡線"
   ]
  },
  {
   "cell_type": "markdown",
   "metadata": {},
   "source": [
    "### 1.資産の期待収益と分散共分散行列から効率的ポートフォリオを求める\n",
    "資産は４つと仮定"
   ]
  },
  {
   "cell_type": "code",
   "execution_count": 7,
   "metadata": {},
   "outputs": [],
   "source": [
    "# 分散共分散行列S\n",
    "S = np.array([[0.1,0.01,0.03,0.05],[0.01,0.3,0.06,-0.04],[0.03,0.06,0.4,0.02],[0.05,-0.04,0.02,0.5]])\n",
    "#　期待収益率\n",
    "E = np.array([0.06, 0.08, 0.1, 0.15])\n",
    "#定数c\n",
    "c = 0.04"
   ]
  },
  {
   "cell_type": "code",
   "execution_count": 10,
   "metadata": {},
   "outputs": [],
   "source": [
    "#一つ目の効率的ポートフォリオ\n",
    "#c=0として計算\n",
    "Z = np.dot(S.T, E)\n",
    "X = Z / np.sum(Z)"
   ]
  },
  {
   "cell_type": "code",
   "execution_count": 11,
   "metadata": {},
   "outputs": [],
   "source": [
    "#二つ目の効率的ポートフォリオ\n",
    "Z = np.dot(S.T, (E-c))\n",
    "Y = Z/np.sum(Z)"
   ]
  },
  {
   "cell_type": "code",
   "execution_count": 13,
   "metadata": {},
   "outputs": [],
   "source": [
    "#各ポートフォリオの統計量\n",
    "E_X = np.dot(E.T,X)\n",
    "E_Y = np.dot(E.T,Y)\n",
    "var_X = np.dot((E-E_X)**2, X)\n",
    "var_Y = np.dot((E-E_Y)**2, Y)\n",
    "sigma_X = np.sqrt(var_X)\n",
    "sigma_Y = np.sqrt(var_Y)\n",
    "cov_XY = np.dot(np.dot(X.T, E),Y)\n",
    "corr_XY = cov_XY / (sigma_X*sigma_Y)"
   ]
  },
  {
   "cell_type": "code",
   "execution_count": 26,
   "metadata": {},
   "outputs": [
    {
     "data": {
      "text/plain": [
       "array([0.01060509, 0.01246371, 0.0319246 , 0.06078794])"
      ]
     },
     "execution_count": 26,
     "metadata": {},
     "output_type": "execute_result"
    }
   ],
   "source": [
    "cov_XY"
   ]
  },
  {
   "cell_type": "code",
   "execution_count": 25,
   "metadata": {},
   "outputs": [
    {
     "name": "stderr",
     "output_type": "stream",
     "text": [
      "/anaconda3/lib/python3.7/site-packages/ipykernel_launcher.py:8: RuntimeWarning: invalid value encountered in sqrt\n",
      "  \n"
     ]
    }
   ],
   "source": [
    "#XとYを比率αで組み合わせる\n",
    "alphas = np.arange(-1.5, 3, 0.1)\n",
    "envelop_dev = np.zeros(45)\n",
    "envelop_ex = np.zeros(45)\n",
    "for i in range(45):\n",
    "    alpha = alphas[i]\n",
    "    envelop_ex[i] = E_X*alpha + E_Y*(1-alpha)\n",
    "    envelop_dev = np.sqrt((var_X**2)*(alpha**2) + (var_Y**2)*((1-alpha)**2) + 2*alpha*(1-alpha)*cov_XY)"
   ]
  },
  {
   "cell_type": "code",
   "execution_count": 19,
   "metadata": {},
   "outputs": [
    {
     "data": {
      "text/plain": [
       "(45,)"
      ]
     },
     "execution_count": 19,
     "metadata": {},
     "output_type": "execute_result"
    }
   ],
   "source": [
    "alpha.shape"
   ]
  },
  {
   "cell_type": "code",
   "execution_count": 27,
   "metadata": {},
   "outputs": [
    {
     "data": {
      "text/plain": [
       "array([0.00311156, 0.0012803 , 0.00024905, 0.00117092])"
      ]
     },
     "execution_count": 27,
     "metadata": {},
     "output_type": "execute_result"
    }
   ],
   "source": [
    "(E-E_X)**2"
   ]
  },
  {
   "cell_type": "code",
   "execution_count": 28,
   "metadata": {},
   "outputs": [
    {
     "data": {
      "text/plain": [
       "array([-0.05578134, -0.03578134, -0.01578134,  0.03421866])"
      ]
     },
     "execution_count": 28,
     "metadata": {},
     "output_type": "execute_result"
    }
   ],
   "source": [
    "E-E_X"
   ]
  },
  {
   "cell_type": "code",
   "execution_count": null,
   "metadata": {},
   "outputs": [],
   "source": []
  }
 ],
 "metadata": {
  "kernelspec": {
   "display_name": "Python 3",
   "language": "python",
   "name": "python3"
  },
  "language_info": {
   "codemirror_mode": {
    "name": "ipython",
    "version": 3
   },
   "file_extension": ".py",
   "mimetype": "text/x-python",
   "name": "python",
   "nbconvert_exporter": "python",
   "pygments_lexer": "ipython3",
   "version": "3.7.3"
  }
 },
 "nbformat": 4,
 "nbformat_minor": 2
}
