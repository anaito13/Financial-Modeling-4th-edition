{
 "cells": [
  {
   "cell_type": "code",
   "execution_count": 1,
   "metadata": {},
   "outputs": [],
   "source": [
    "import numpy as np\n",
    "import pandas as pd\n",
    "import matplotlib.pyplot as plt\n",
    "%matplotlib inline"
   ]
  },
  {
   "cell_type": "markdown",
   "metadata": {},
   "source": [
    "## 9.12 Efficient Portfolios Without Short Sales\n"
   ]
  },
  {
   "cell_type": "markdown",
   "metadata": {},
   "source": [
    "### Solve Portfolio Problem without Constraints\n",
    "here we use one of python's optimization libraries \"scipy\""
   ]
  },
  {
   "cell_type": "code",
   "execution_count": 124,
   "metadata": {},
   "outputs": [],
   "source": [
    "S = np.array([[0.1,0.03,-0.08,0.05],[0.03,0.2,0.02,0.03],[-0.08,0.02,0.3,0.2],[0.05,0.03,0.2,0.9]])\n",
    "E = np.array([0.08,0.09,0.1,0.11])\n",
    "c = 0.03"
   ]
  },
  {
   "cell_type": "code",
   "execution_count": 50,
   "metadata": {},
   "outputs": [],
   "source": [
    "from scipy.optimize import minimize"
   ]
  },
  {
   "cell_type": "code",
   "execution_count": 51,
   "metadata": {},
   "outputs": [
    {
     "name": "stdout",
     "output_type": "stream",
     "text": [
      "     fun: -0.28985982601597005\n",
      "     jac: array([-0.15476653, -0.15472823, -0.15470348, -0.15467623])\n",
      " message: 'Optimization terminated successfully.'\n",
      "    nfev: 57\n",
      "     nit: 9\n",
      "    njev: 9\n",
      "  status: 0\n",
      " success: True\n",
      "       x: array([ 0.62184923,  0.08043426,  0.35419314, -0.05647663])\n"
     ]
    }
   ],
   "source": [
    "def func(params):\n",
    "    x1,x2,x3,x4 = params\n",
    "    X = np.array([x1,x2,x3,x4])\n",
    "    mu = np.dot(X.T, E)\n",
    "    sigma = np.sqrt(np.dot(X.T, (np.dot(S,X))))\n",
    "    sharp_ratio = -1 * (mu-c)/sigma\n",
    "    return sharp_ratio\n",
    "def con(params):\n",
    "    x1,x2,x3,x4 = params\n",
    "    X = np.array([x1,x2,x3,x4])\n",
    "    return np.sum(X)-1\n",
    "\n",
    "params = [0.25,0.25,0.25,0.25]\n",
    "cons = {\"type\":\"eq\",\"fun\":con}\n",
    "result = minimize(func, params,constraints=cons)\n",
    "print(result)"
   ]
  },
  {
   "cell_type": "markdown",
   "metadata": {},
   "source": [
    "### Solve Portfolio Problem With Constraint"
   ]
  },
  {
   "cell_type": "code",
   "execution_count": 125,
   "metadata": {},
   "outputs": [
    {
     "name": "stdout",
     "output_type": "stream",
     "text": [
      "     fun: -0.28205073886787885\n",
      "     jac: array([-0.14762358, -0.14760774, -0.147592  ,  0.11257809])\n",
      " message: 'Optimization terminated successfully.'\n",
      "    nfev: 43\n",
      "     nit: 7\n",
      "    njev: 7\n",
      "  status: 0\n",
      " success: True\n",
      "       x: array([5.85590386e-01, 9.65474135e-02, 3.17862201e-01, 1.87226893e-17])\n"
     ]
    }
   ],
   "source": [
    "def func(params,c):\n",
    "    x1,x2,x3,x4 = params\n",
    "    X = np.array([x1,x2,x3,x4])\n",
    "    mu = np.dot(X.T, E)\n",
    "    sigma = np.sqrt(np.dot(X.T, (np.dot(S,X))))\n",
    "    sharp_ratio = -1 * (mu-c)/sigma\n",
    "    return sharp_ratio\n",
    "def con1(params):\n",
    "    x1,x2,x3,x4 = params\n",
    "    X = np.array([x1,x2,x3,x4])\n",
    "    return np.sum(X)-1\n",
    "def con2(params):\n",
    "    x1,x2,x3,x4 = params\n",
    "    return x1\n",
    "def con3(params):\n",
    "    x1,x2,x3,x4 = params\n",
    "    return x2\n",
    "def con4(params):\n",
    "    x1,x2,x3,x4 = params\n",
    "    return x3\n",
    "def con5(params):\n",
    "    x1,x2,x3,x4 = params\n",
    "    return x4\n",
    "params = [0.25,0.25,0.25,0.25]\n",
    "cons = [{\"type\":\"eq\",\"fun\":con1},\n",
    "       {\"type\":\"ineq\",\"fun\":con2},\n",
    "       {\"type\":\"ineq\",\"fun\":con3},\n",
    "       {\"type\":\"ineq\",\"fun\":con4},\n",
    "       {\"type\":\"ineq\",\"fun\":con5}]\n",
    "result = minimize(func, params,args=c, constraints=cons)\n",
    "print(result)"
   ]
  },
  {
   "cell_type": "markdown",
   "metadata": {},
   "source": [
    "### Calculate Efficient Frontier under Constraints"
   ]
  },
  {
   "cell_type": "code",
   "execution_count": 133,
   "metadata": {},
   "outputs": [],
   "source": [
    "def get_mu(X,E):\n",
    "    Y = np.array(X)\n",
    "    mu = np.dot(Y.T, E)\n",
    "    return mu\n",
    "def get_sigma(X,S):\n",
    "    Z = np.array(X)\n",
    "    sigma = np.sqrt(np.dot(Z.T, (np.dot(Z,S))))\n",
    "    return sigma\n",
    "\n",
    "def func(params,c=c):\n",
    "    x1,x2,x3,x4 = params\n",
    "    X = np.array([x1,x2,x3,x4])\n",
    "    mu = np.dot(X.T, E)\n",
    "    sigma = np.sqrt(np.dot(X.T, (np.dot(S,X))))\n",
    "    sharp_ratio = -1 * (mu-c)/sigma\n",
    "    return sharp_ratio\n",
    "def con1(params):\n",
    "    x1,x2,x3,x4 = params\n",
    "    X = np.array([x1,x2,x3,x4])\n",
    "    return np.sum(X)-1\n",
    "def con2(params):\n",
    "    x1,x2,x3,x4 = params\n",
    "    return x1\n",
    "def con3(params):\n",
    "    x1,x2,x3,x4 = params\n",
    "    return x2\n",
    "def con4(params):\n",
    "    x1,x2,x3,x4 = params\n",
    "    return x3\n",
    "def con5(params):\n",
    "    x1,x2,x3,x4 = params\n",
    "    return x4\n",
    "params = [0.25,0.25,0.25,0.25]\n",
    "cons = [{\"type\":\"eq\",\"fun\":con1},\n",
    "       {\"type\":\"ineq\",\"fun\":con2},\n",
    "       {\"type\":\"ineq\",\"fun\":con3},\n",
    "       {\"type\":\"ineq\",\"fun\":con4},\n",
    "       {\"type\":\"ineq\",\"fun\":con5}]\n",
    "def get_optimal_port(params, c):\n",
    "    result = minimize(func, params, args=c, constraints=cons)\n",
    "    return result.x"
   ]
  },
  {
   "cell_type": "code",
   "execution_count": 139,
   "metadata": {},
   "outputs": [],
   "source": [
    "c_list = np.arange(-35,161)*0.001\n",
    "mu_df = pd.DataFrame(columns=[\"MU\"],index=c_list)\n",
    "sigma_df = pd.DataFrame(columns=[\"SIGMA\"], index=c_list)\n",
    "X_df = pd.DataFrame(columns=[\"x1\",\"x2\",\"x3\",\"x4\"], index=c_list)\n",
    "\n",
    "params = [0.25,0.25,0.25,0.25]\n",
    "for i in range(len(c_list)):\n",
    "    c = c_list[i]\n",
    "    X = get_optimal_port(params,c)\n",
    "    X_df.iloc[i] = X\n",
    "    mu_df.iloc[i] = get_mu(X,E)\n",
    "    sigma_df.iloc[i] = get_sigma(X,S)\n",
    "    \n",
    "df = pd.concat([mu_df,sigma_df,X_df],axis=1)"
   ]
  },
  {
   "cell_type": "code",
   "execution_count": 140,
   "metadata": {},
   "outputs": [
    {
     "data": {
      "text/html": [
       "<div>\n",
       "<style scoped>\n",
       "    .dataframe tbody tr th:only-of-type {\n",
       "        vertical-align: middle;\n",
       "    }\n",
       "\n",
       "    .dataframe tbody tr th {\n",
       "        vertical-align: top;\n",
       "    }\n",
       "\n",
       "    .dataframe thead th {\n",
       "        text-align: right;\n",
       "    }\n",
       "</style>\n",
       "<table border=\"1\" class=\"dataframe\">\n",
       "  <thead>\n",
       "    <tr style=\"text-align: right;\">\n",
       "      <th></th>\n",
       "      <th>MU</th>\n",
       "      <th>SIGMA</th>\n",
       "      <th>x1</th>\n",
       "      <th>x2</th>\n",
       "      <th>x3</th>\n",
       "      <th>x4</th>\n",
       "    </tr>\n",
       "  </thead>\n",
       "  <tbody>\n",
       "    <tr>\n",
       "      <th>-0.035</th>\n",
       "      <td>0.0870184</td>\n",
       "      <td>0.202441</td>\n",
       "      <td>0.604712</td>\n",
       "      <td>0.088736</td>\n",
       "      <td>0.306552</td>\n",
       "      <td>1.90052e-16</td>\n",
       "    </tr>\n",
       "    <tr>\n",
       "      <th>-0.034</th>\n",
       "      <td>0.0870207</td>\n",
       "      <td>0.202445</td>\n",
       "      <td>0.604568</td>\n",
       "      <td>0.0887962</td>\n",
       "      <td>0.306635</td>\n",
       "      <td>-1.45787e-16</td>\n",
       "    </tr>\n",
       "    <tr>\n",
       "      <th>-0.033</th>\n",
       "      <td>0.087023</td>\n",
       "      <td>0.202449</td>\n",
       "      <td>0.604422</td>\n",
       "      <td>0.0888572</td>\n",
       "      <td>0.306721</td>\n",
       "      <td>-3.22507e-16</td>\n",
       "    </tr>\n",
       "    <tr>\n",
       "      <th>-0.032</th>\n",
       "      <td>0.0870253</td>\n",
       "      <td>0.202453</td>\n",
       "      <td>0.604274</td>\n",
       "      <td>0.088919</td>\n",
       "      <td>0.306807</td>\n",
       "      <td>6.48276e-17</td>\n",
       "    </tr>\n",
       "    <tr>\n",
       "      <th>-0.031</th>\n",
       "      <td>0.0870277</td>\n",
       "      <td>0.202457</td>\n",
       "      <td>0.604123</td>\n",
       "      <td>0.0889816</td>\n",
       "      <td>0.306895</td>\n",
       "      <td>4.01769e-16</td>\n",
       "    </tr>\n",
       "    <tr>\n",
       "      <th>-0.030</th>\n",
       "      <td>0.0870301</td>\n",
       "      <td>0.202461</td>\n",
       "      <td>0.60397</td>\n",
       "      <td>0.0890451</td>\n",
       "      <td>0.306985</td>\n",
       "      <td>-1.04148e-16</td>\n",
       "    </tr>\n",
       "    <tr>\n",
       "      <th>-0.029</th>\n",
       "      <td>0.0870326</td>\n",
       "      <td>0.202465</td>\n",
       "      <td>0.603815</td>\n",
       "      <td>0.0891095</td>\n",
       "      <td>0.307076</td>\n",
       "      <td>-1.65604e-16</td>\n",
       "    </tr>\n",
       "    <tr>\n",
       "      <th>-0.028</th>\n",
       "      <td>0.0870351</td>\n",
       "      <td>0.20247</td>\n",
       "      <td>0.603657</td>\n",
       "      <td>0.0891748</td>\n",
       "      <td>0.307169</td>\n",
       "      <td>-3.83605e-17</td>\n",
       "    </tr>\n",
       "    <tr>\n",
       "      <th>-0.027</th>\n",
       "      <td>0.0870377</td>\n",
       "      <td>0.202474</td>\n",
       "      <td>0.603496</td>\n",
       "      <td>0.089241</td>\n",
       "      <td>0.307263</td>\n",
       "      <td>3.91368e-16</td>\n",
       "    </tr>\n",
       "    <tr>\n",
       "      <th>-0.026</th>\n",
       "      <td>0.0870403</td>\n",
       "      <td>0.202479</td>\n",
       "      <td>0.603333</td>\n",
       "      <td>0.0893081</td>\n",
       "      <td>0.307359</td>\n",
       "      <td>5.70964e-16</td>\n",
       "    </tr>\n",
       "  </tbody>\n",
       "</table>\n",
       "</div>"
      ],
      "text/plain": [
       "               MU     SIGMA        x1         x2        x3           x4\n",
       "-0.035  0.0870184  0.202441  0.604712   0.088736  0.306552  1.90052e-16\n",
       "-0.034  0.0870207  0.202445  0.604568  0.0887962  0.306635 -1.45787e-16\n",
       "-0.033   0.087023  0.202449  0.604422  0.0888572  0.306721 -3.22507e-16\n",
       "-0.032  0.0870253  0.202453  0.604274   0.088919  0.306807  6.48276e-17\n",
       "-0.031  0.0870277  0.202457  0.604123  0.0889816  0.306895  4.01769e-16\n",
       "-0.030  0.0870301  0.202461   0.60397  0.0890451  0.306985 -1.04148e-16\n",
       "-0.029  0.0870326  0.202465  0.603815  0.0891095  0.307076 -1.65604e-16\n",
       "-0.028  0.0870351   0.20247  0.603657  0.0891748  0.307169 -3.83605e-17\n",
       "-0.027  0.0870377  0.202474  0.603496   0.089241  0.307263  3.91368e-16\n",
       "-0.026  0.0870403  0.202479  0.603333  0.0893081  0.307359  5.70964e-16"
      ]
     },
     "execution_count": 140,
     "metadata": {},
     "output_type": "execute_result"
    }
   ],
   "source": [
    "df.head(10)"
   ]
  },
  {
   "cell_type": "code",
   "execution_count": 147,
   "metadata": {},
   "outputs": [
    {
     "data": {
      "text/plain": [
       "<matplotlib.axes._subplots.AxesSubplot at 0x1017b571d0>"
      ]
     },
     "execution_count": 147,
     "metadata": {},
     "output_type": "execute_result"
    },
    {
     "data": {
      "image/png": "[encoded data removed]",
      "text/plain": [
       "<Figure size 432x288 with 1 Axes>"
      ]
     },
     "metadata": {
      "needs_background": "light"
     },
     "output_type": "display_data"
    }
   ],
   "source": [
    "df.plot(x=\"SIGMA\",y=\"MU\",\n",
    "       xticks=np.arange(0,1.1,0.1),\n",
    "       yticks=np.arange(0.06,0.15,0.01))"
   ]
  },
  {
   "cell_type": "code",
   "execution_count": null,
   "metadata": {},
   "outputs": [],
   "source": []
  }
 ],
 "metadata": {
  "kernelspec": {
   "display_name": "Python 3",
   "language": "python",
   "name": "python3"
  },
  "language_info": {
   "codemirror_mode": {
    "name": "ipython",
    "version": 3
   },
   "file_extension": ".py",
   "mimetype": "text/x-python",
   "name": "python",
   "nbconvert_exporter": "python",
   "pygments_lexer": "ipython3",
   "version": "3.7.3"
  }
 },
 "nbformat": 4,
 "nbformat_minor": 2
}
