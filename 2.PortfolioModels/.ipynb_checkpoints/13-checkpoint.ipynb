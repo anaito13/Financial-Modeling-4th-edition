{
 "cells": [
  {
   "cell_type": "code",
   "execution_count": 2,
   "metadata": {},
   "outputs": [],
   "source": [
    "import numpy as np\n",
    "import pandas as pd\n",
    "from IPython.display import display"
   ]
  },
  {
   "cell_type": "code",
   "execution_count": null,
   "metadata": {},
   "outputs": [],
   "source": []
  },
  {
   "cell_type": "markdown",
   "metadata": {},
   "source": [
    "# 13 The Black-Litterman Approach to Portfolio Optimization"
   ]
  },
  {
   "cell_type": "markdown",
   "metadata": {},
   "source": [
    "### 13.2 A Naive Problem"
   ]
  },
  {
   "cell_type": "code",
   "execution_count": 3,
   "metadata": {},
   "outputs": [
    {
     "data": {
      "text/plain": [
       "(67, 12)"
      ]
     },
     "execution_count": 3,
     "metadata": {},
     "output_type": "execute_result"
    }
   ],
   "source": [
    "SuperDuper = pd.read_excel(\"Chapter 13.xlsm\", header=None)\n",
    "SuperDuper.shape"
   ]
  },
  {
   "cell_type": "code",
   "execution_count": 4,
   "metadata": {},
   "outputs": [],
   "source": [
    "info = pd.DataFrame(SuperDuper.loc[2:3,1:10].values, columns=SuperDuper.loc[1,1:10].values, index=[\"volume\",\"ratio\"])"
   ]
  },
  {
   "cell_type": "code",
   "execution_count": 5,
   "metadata": {},
   "outputs": [
    {
     "data": {
      "text/html": [
       "<div>\n",
       "<style scoped>\n",
       "    .dataframe tbody tr th:only-of-type {\n",
       "        vertical-align: middle;\n",
       "    }\n",
       "\n",
       "    .dataframe tbody tr th {\n",
       "        vertical-align: top;\n",
       "    }\n",
       "\n",
       "    .dataframe thead th {\n",
       "        text-align: right;\n",
       "    }\n",
       "</style>\n",
       "<table border=\"1\" class=\"dataframe\">\n",
       "  <thead>\n",
       "    <tr style=\"text-align: right;\">\n",
       "      <th></th>\n",
       "      <th>General Motors\n",
       "GM</th>\n",
       "      <th>Home Depot\n",
       "HD</th>\n",
       "      <th>International Paper\n",
       "IP</th>\n",
       "      <th>Hewlett-Packard\n",
       "HPQ</th>\n",
       "      <th>Altria\n",
       "MO</th>\n",
       "      <th>American Express\n",
       "AXP</th>\n",
       "      <th>Alcoa Aluminum\n",
       "AA</th>\n",
       "      <th>DuPont\n",
       "DD</th>\n",
       "      <th>Merck\n",
       "MRK</th>\n",
       "      <th>MMM</th>\n",
       "    </tr>\n",
       "  </thead>\n",
       "  <tbody>\n",
       "    <tr>\n",
       "      <th>volume</th>\n",
       "      <td>16.85</td>\n",
       "      <td>73.98</td>\n",
       "      <td>15.92</td>\n",
       "      <td>88.37</td>\n",
       "      <td>153.33</td>\n",
       "      <td>65.66</td>\n",
       "      <td>28.16</td>\n",
       "      <td>38.32</td>\n",
       "      <td>79.51</td>\n",
       "      <td>60.9</td>\n",
       "    </tr>\n",
       "    <tr>\n",
       "      <th>ratio</th>\n",
       "      <td>0.0271337</td>\n",
       "      <td>0.11913</td>\n",
       "      <td>0.0256361</td>\n",
       "      <td>0.142303</td>\n",
       "      <td>0.246908</td>\n",
       "      <td>0.105733</td>\n",
       "      <td>0.0453462</td>\n",
       "      <td>0.0617069</td>\n",
       "      <td>0.128035</td>\n",
       "      <td>0.0980676</td>\n",
       "    </tr>\n",
       "  </tbody>\n",
       "</table>\n",
       "</div>"
      ],
      "text/plain": [
       "       General Motors\\nGM Home Depot\\nHD International Paper\\nIP  \\\n",
       "volume              16.85          73.98                   15.92   \n",
       "ratio           0.0271337        0.11913               0.0256361   \n",
       "\n",
       "       Hewlett-Packard\\nHPQ Altria\\nMO American Express\\nAXP  \\\n",
       "volume                88.37     153.33                 65.66   \n",
       "ratio              0.142303   0.246908              0.105733   \n",
       "\n",
       "       Alcoa Aluminum\\nAA DuPont\\nDD Merck\\nMRK        MMM  \n",
       "volume              28.16      38.32      79.51       60.9  \n",
       "ratio           0.0453462  0.0617069   0.128035  0.0980676  "
      ]
     },
     "execution_count": 5,
     "metadata": {},
     "output_type": "execute_result"
    }
   ],
   "source": [
    "info"
   ]
  },
  {
   "cell_type": "code",
   "execution_count": 7,
   "metadata": {},
   "outputs": [],
   "source": [
    "data_raw = pd.DataFrame(SuperDuper.loc[6:,1:10].values, index=SuperDuper.loc[6:,0].values, columns=SuperDuper.loc[1,1:10].values)"
   ]
  },
  {
   "cell_type": "code",
   "execution_count": 8,
   "metadata": {},
   "outputs": [
    {
     "data": {
      "text/html": [
       "<div>\n",
       "<style scoped>\n",
       "    .dataframe tbody tr th:only-of-type {\n",
       "        vertical-align: middle;\n",
       "    }\n",
       "\n",
       "    .dataframe tbody tr th {\n",
       "        vertical-align: top;\n",
       "    }\n",
       "\n",
       "    .dataframe thead th {\n",
       "        text-align: right;\n",
       "    }\n",
       "</style>\n",
       "<table border=\"1\" class=\"dataframe\">\n",
       "  <thead>\n",
       "    <tr style=\"text-align: right;\">\n",
       "      <th></th>\n",
       "      <th>General Motors\n",
       "GM</th>\n",
       "      <th>Home Depot\n",
       "HD</th>\n",
       "      <th>International Paper\n",
       "IP</th>\n",
       "      <th>Hewlett-Packard\n",
       "HPQ</th>\n",
       "      <th>Altria\n",
       "MO</th>\n",
       "      <th>American Express\n",
       "AXP</th>\n",
       "      <th>Alcoa Aluminum\n",
       "AA</th>\n",
       "      <th>DuPont\n",
       "DD</th>\n",
       "      <th>Merck\n",
       "MRK</th>\n",
       "      <th>MMM</th>\n",
       "    </tr>\n",
       "  </thead>\n",
       "  <tbody>\n",
       "    <tr>\n",
       "      <th>2001-06-01</th>\n",
       "      <td>50.31</td>\n",
       "      <td>45.26</td>\n",
       "      <td>31.22</td>\n",
       "      <td>26.47</td>\n",
       "      <td>38.74</td>\n",
       "      <td>32.47</td>\n",
       "      <td>36.06</td>\n",
       "      <td>40.88</td>\n",
       "      <td>50.74</td>\n",
       "      <td>51.56</td>\n",
       "    </tr>\n",
       "    <tr>\n",
       "      <th>2001-07-02</th>\n",
       "      <td>49.72</td>\n",
       "      <td>48.26</td>\n",
       "      <td>35.64</td>\n",
       "      <td>22.83</td>\n",
       "      <td>35.61</td>\n",
       "      <td>33.82</td>\n",
       "      <td>35.37</td>\n",
       "      <td>36.29</td>\n",
       "      <td>53.98</td>\n",
       "      <td>50.55</td>\n",
       "    </tr>\n",
       "    <tr>\n",
       "      <th>2001-08-01</th>\n",
       "      <td>43.14</td>\n",
       "      <td>44.06</td>\n",
       "      <td>35.32</td>\n",
       "      <td>21.48</td>\n",
       "      <td>37.1</td>\n",
       "      <td>30.54</td>\n",
       "      <td>34.5</td>\n",
       "      <td>35.01</td>\n",
       "      <td>51.96</td>\n",
       "      <td>47.3</td>\n",
       "    </tr>\n",
       "    <tr>\n",
       "      <th>2001-09-04</th>\n",
       "      <td>33.81</td>\n",
       "      <td>36.79</td>\n",
       "      <td>30.66</td>\n",
       "      <td>14.92</td>\n",
       "      <td>37.79</td>\n",
       "      <td>24.37</td>\n",
       "      <td>28.06</td>\n",
       "      <td>32.07</td>\n",
       "      <td>53.16</td>\n",
       "      <td>44.71</td>\n",
       "    </tr>\n",
       "    <tr>\n",
       "      <th>2001-10-01</th>\n",
       "      <td>32.56</td>\n",
       "      <td>36.66</td>\n",
       "      <td>31.5</td>\n",
       "      <td>15.65</td>\n",
       "      <td>36.63</td>\n",
       "      <td>24.75</td>\n",
       "      <td>29.34</td>\n",
       "      <td>34.18</td>\n",
       "      <td>50.93</td>\n",
       "      <td>47.43</td>\n",
       "    </tr>\n",
       "  </tbody>\n",
       "</table>\n",
       "</div>"
      ],
      "text/plain": [
       "           General Motors\\nGM Home Depot\\nHD International Paper\\nIP  \\\n",
       "2001-06-01              50.31          45.26                   31.22   \n",
       "2001-07-02              49.72          48.26                   35.64   \n",
       "2001-08-01              43.14          44.06                   35.32   \n",
       "2001-09-04              33.81          36.79                   30.66   \n",
       "2001-10-01              32.56          36.66                    31.5   \n",
       "\n",
       "           Hewlett-Packard\\nHPQ Altria\\nMO American Express\\nAXP  \\\n",
       "2001-06-01                26.47      38.74                 32.47   \n",
       "2001-07-02                22.83      35.61                 33.82   \n",
       "2001-08-01                21.48       37.1                 30.54   \n",
       "2001-09-04                14.92      37.79                 24.37   \n",
       "2001-10-01                15.65      36.63                 24.75   \n",
       "\n",
       "           Alcoa Aluminum\\nAA DuPont\\nDD Merck\\nMRK    MMM  \n",
       "2001-06-01              36.06      40.88      50.74  51.56  \n",
       "2001-07-02              35.37      36.29      53.98  50.55  \n",
       "2001-08-01               34.5      35.01      51.96   47.3  \n",
       "2001-09-04              28.06      32.07      53.16  44.71  \n",
       "2001-10-01              29.34      34.18      50.93  47.43  "
      ]
     },
     "execution_count": 8,
     "metadata": {},
     "output_type": "execute_result"
    }
   ],
   "source": [
    "data_raw.head()"
   ]
  },
  {
   "cell_type": "code",
   "execution_count": 9,
   "metadata": {},
   "outputs": [],
   "source": [
    "data = data_raw.pct_change().dropna()"
   ]
  },
  {
   "cell_type": "code",
   "execution_count": 10,
   "metadata": {},
   "outputs": [],
   "source": [
    "info.loc[\"mean return\"] = data.mean()\n",
    "info.loc[\"std\"] = data.std()"
   ]
  },
  {
   "cell_type": "code",
   "execution_count": 11,
   "metadata": {},
   "outputs": [
    {
     "name": "stdout",
     "output_type": "stream",
     "text": [
      "(10, 10)\n",
      "(10,)\n"
     ]
    }
   ],
   "source": [
    "E = info.loc[\"mean return\"].values\n",
    "\n",
    "S = (data-E).T.dot(data) / (data.shape[0]-1)\n",
    "rf = 0.004\n",
    "print(S.shape)\n",
    "print(E.shape)"
   ]
  },
  {
   "cell_type": "code",
   "execution_count": 12,
   "metadata": {},
   "outputs": [
    {
     "data": {
      "text/plain": [
       "array([-0.0028954300589064323, -0.00038576563712894676,\n",
       "       0.002519920959113198, 0.008854965595154014, 0.014484135718647576,\n",
       "       0.010315691303775434, 0.0027234317712828376, 0.00216985418435956,\n",
       "       -0.0023161094085593597, 0.009056081319677603], dtype=object)"
      ]
     },
     "execution_count": 12,
     "metadata": {},
     "output_type": "execute_result"
    }
   ],
   "source": [
    "E"
   ]
  },
  {
   "cell_type": "code",
   "execution_count": 13,
   "metadata": {},
   "outputs": [],
   "source": [
    "S_inv = pd.DataFrame(np.linalg.inv(S.values), index=S.index, columns=S.columns)\n",
    "tmp = S_inv.dot(E-rf)\n",
    "optimalport = S_inv.dot(E-rf) / tmp.sum()"
   ]
  },
  {
   "cell_type": "code",
   "execution_count": 14,
   "metadata": {},
   "outputs": [
    {
     "data": {
      "text/plain": [
       "General Motors\\nGM         -1.24884\n",
       "Home Depot\\nHD             -3.36966\n",
       "International Paper\\nIP    -2.17696\n",
       "Hewlett-Packard\\nHPQ      -0.249645\n",
       "Altria\\nMO                  1.45462\n",
       "American Express\\nAXP       5.65314\n",
       "Alcoa Aluminum\\nAA          1.11991\n",
       "DuPont\\nDD                 -2.28426\n",
       "Merck\\nMRK                 -1.37325\n",
       "MMM                         3.47496\n",
       "dtype: object"
      ]
     },
     "execution_count": 14,
     "metadata": {},
     "output_type": "execute_result"
    }
   ],
   "source": [
    "optimalport #too many short positions:Unrealistic"
   ]
  },
  {
   "cell_type": "code",
   "execution_count": null,
   "metadata": {},
   "outputs": [],
   "source": [
    "#use shrinkage\n",
    "S = "
   ]
  }
 ],
 "metadata": {
  "kernelspec": {
   "display_name": "Python 3",
   "language": "python",
   "name": "python3"
  },
  "language_info": {
   "codemirror_mode": {
    "name": "ipython",
    "version": 3
   },
   "file_extension": ".py",
   "mimetype": "text/x-python",
   "name": "python",
   "nbconvert_exporter": "python",
   "pygments_lexer": "ipython3",
   "version": "3.7.3"
  }
 },
 "nbformat": 4,
 "nbformat_minor": 2
}
