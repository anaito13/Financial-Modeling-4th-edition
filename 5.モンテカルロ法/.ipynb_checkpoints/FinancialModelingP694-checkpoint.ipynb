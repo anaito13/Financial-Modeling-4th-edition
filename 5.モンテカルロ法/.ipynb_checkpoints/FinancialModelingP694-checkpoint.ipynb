{
 "cells": [
  {
   "cell_type": "code",
   "execution_count": 17,
   "metadata": {},
   "outputs": [],
   "source": [
    "import numpy as np\n",
    "import pandas as pd\n",
    "import matplotlib.pyplot as plt\n",
    "import pandas_datareader.data as pdf"
   ]
  },
  {
   "cell_type": "code",
   "execution_count": 21,
   "metadata": {},
   "outputs": [],
   "source": [
    "def sim_return(mu, delta_t, sigma, Z):\n",
    "    r = mu * delta_t + sigma*np.sqrt(delta_t) * Z\n",
    "    return r"
   ]
  },
  {
   "cell_type": "markdown",
   "metadata": {},
   "source": [
    "# 単独株式の価格とリターンのシミュレーション\n",
    "\n",
    "時刻tにおける株式リターン\n",
    "$$\n",
    "r_t = \\mu  \\Delta t + \\sigma \\sqrt{\\Delta t}Z \n",
    "$$\n",
    "時刻tにおける株価\n",
    "$$\n",
    "S_t = S_{t-1} \\exp(\\mu \\Delta t + \\sigma\\sqrt{\\Delta t}Z)\n",
    "$$\n"
   ]
  },
  {
   "cell_type": "markdown",
   "metadata": {},
   "source": [
    "### 変数の定義"
   ]
  },
  {
   "cell_type": "code",
   "execution_count": 2,
   "metadata": {},
   "outputs": [],
   "source": [
    "#平均μ\n",
    "mu = 0.12\n",
    "#標準偏差σ\n",
    "sigma = 0.3\n",
    "#Δt\n",
    "delta_t = 0.0833\n",
    "#当初価格\n",
    "p_t0 = 12"
   ]
  },
  {
   "cell_type": "code",
   "execution_count": 12,
   "metadata": {},
   "outputs": [],
   "source": [
    "months = np.arange(1, 13)\n",
    "prices = np.zeros(12)\n",
    "prices[0] = p_t0\n",
    "Z = np.random.randn(12)"
   ]
  },
  {
   "cell_type": "markdown",
   "metadata": {},
   "source": [
    "### 計算"
   ]
  },
  {
   "cell_type": "code",
   "execution_count": 13,
   "metadata": {},
   "outputs": [],
   "source": [
    "for i in range(1,12):\n",
    "    prices[i] = prices[i-1] * np.exp(mu*delta_t+sigma*np.sqrt(delta_t)*Z[i])"
   ]
  },
  {
   "cell_type": "code",
   "execution_count": 14,
   "metadata": {},
   "outputs": [],
   "source": [
    "df = pd.DataFrame({\"価格\":prices}, index=months)"
   ]
  },
  {
   "cell_type": "code",
   "execution_count": 15,
   "metadata": {},
   "outputs": [
    {
     "data": {
      "text/html": [
       "<div>\n",
       "<style scoped>\n",
       "    .dataframe tbody tr th:only-of-type {\n",
       "        vertical-align: middle;\n",
       "    }\n",
       "\n",
       "    .dataframe tbody tr th {\n",
       "        vertical-align: top;\n",
       "    }\n",
       "\n",
       "    .dataframe thead th {\n",
       "        text-align: right;\n",
       "    }\n",
       "</style>\n",
       "<table border=\"1\" class=\"dataframe\">\n",
       "  <thead>\n",
       "    <tr style=\"text-align: right;\">\n",
       "      <th></th>\n",
       "      <th>価格</th>\n",
       "    </tr>\n",
       "  </thead>\n",
       "  <tbody>\n",
       "    <tr>\n",
       "      <th>1</th>\n",
       "      <td>12.000000</td>\n",
       "    </tr>\n",
       "    <tr>\n",
       "      <th>2</th>\n",
       "      <td>12.117124</td>\n",
       "    </tr>\n",
       "    <tr>\n",
       "      <th>3</th>\n",
       "      <td>9.262696</td>\n",
       "    </tr>\n",
       "    <tr>\n",
       "      <th>4</th>\n",
       "      <td>9.411133</td>\n",
       "    </tr>\n",
       "    <tr>\n",
       "      <th>5</th>\n",
       "      <td>9.936272</td>\n",
       "    </tr>\n",
       "    <tr>\n",
       "      <th>6</th>\n",
       "      <td>9.690880</td>\n",
       "    </tr>\n",
       "    <tr>\n",
       "      <th>7</th>\n",
       "      <td>8.268580</td>\n",
       "    </tr>\n",
       "    <tr>\n",
       "      <th>8</th>\n",
       "      <td>8.092452</td>\n",
       "    </tr>\n",
       "    <tr>\n",
       "      <th>9</th>\n",
       "      <td>9.171142</td>\n",
       "    </tr>\n",
       "    <tr>\n",
       "      <th>10</th>\n",
       "      <td>10.396735</td>\n",
       "    </tr>\n",
       "    <tr>\n",
       "      <th>11</th>\n",
       "      <td>11.657158</td>\n",
       "    </tr>\n",
       "    <tr>\n",
       "      <th>12</th>\n",
       "      <td>10.672839</td>\n",
       "    </tr>\n",
       "  </tbody>\n",
       "</table>\n",
       "</div>"
      ],
      "text/plain": [
       "           価格\n",
       "1   12.000000\n",
       "2   12.117124\n",
       "3    9.262696\n",
       "4    9.411133\n",
       "5    9.936272\n",
       "6    9.690880\n",
       "7    8.268580\n",
       "8    8.092452\n",
       "9    9.171142\n",
       "10  10.396735\n",
       "11  11.657158\n",
       "12  10.672839"
      ]
     },
     "execution_count": 15,
     "metadata": {},
     "output_type": "execute_result"
    }
   ],
   "source": [
    "df"
   ]
  },
  {
   "cell_type": "markdown",
   "metadata": {},
   "source": [
    "# 二つの株式のポートフォリオ\n",
    "$$\n",
    "Z_2 = \\rho Z_1 + \\sqrt{1-\\rho^2}Z_3\n",
    "$$\n",
    "の時、標準正規乱数$Z_1$と$Z_2$は相関$\\rho$を持つことを利用する"
   ]
  },
  {
   "cell_type": "markdown",
   "metadata": {},
   "source": [
    "### 変数の定義"
   ]
  },
  {
   "cell_type": "code",
   "execution_count": 16,
   "metadata": {},
   "outputs": [],
   "source": [
    "#株式１、２の平均μ\n",
    "mu1 = 0.12\n",
    "mu2 = 0.15\n",
    "#株式１、２の標準偏差σ\n",
    "sigma1 = 0.22\n",
    "sigma2 = 0.3\n",
    "#相関係数ρ\n",
    "rho = 0.5\n",
    "#月次リターン 1/12 = 0.0833\n",
    "delta_t = 0.0833"
   ]
  },
  {
   "cell_type": "markdown",
   "metadata": {},
   "source": []
  },
  {
   "cell_type": "markdown",
   "metadata": {},
   "source": [
    "### 乱数作成"
   ]
  },
  {
   "cell_type": "code",
   "execution_count": 19,
   "metadata": {},
   "outputs": [],
   "source": [
    "Z1 = np.random.randn(12)\n",
    "Z3 = np.random.randn(12)\n",
    "Z2 = rho * Z1 + np.sqrt(1-rho**2)*Z3"
   ]
  },
  {
   "cell_type": "markdown",
   "metadata": {},
   "source": [
    "### 計算"
   ]
  },
  {
   "cell_type": "code",
   "execution_count": 22,
   "metadata": {},
   "outputs": [],
   "source": [
    "returns1 = np.zeros(12)\n",
    "returns2 = np.zeros(12)\n",
    "months = np.arange(1,13)\n",
    "\n",
    "for i in range(12):\n",
    "    returns1[i] = sim_return(mu1, delta_t, sigma1, Z1[i])\n",
    "    returns2[i] = sim_return(mu2, delta_t, sigma2, Z2[i])"
   ]
  },
  {
   "cell_type": "code",
   "execution_count": 23,
   "metadata": {},
   "outputs": [],
   "source": [
    "df = pd.DataFrame({\"株式1\":returns1, \"株式2\":returns2, \"Z1\":Z1, \"Z2\":Z2}, index=months)"
   ]
  },
  {
   "cell_type": "code",
   "execution_count": 24,
   "metadata": {},
   "outputs": [
    {
     "data": {
      "text/html": [
       "<div>\n",
       "<style scoped>\n",
       "    .dataframe tbody tr th:only-of-type {\n",
       "        vertical-align: middle;\n",
       "    }\n",
       "\n",
       "    .dataframe tbody tr th {\n",
       "        vertical-align: top;\n",
       "    }\n",
       "\n",
       "    .dataframe thead th {\n",
       "        text-align: right;\n",
       "    }\n",
       "</style>\n",
       "<table border=\"1\" class=\"dataframe\">\n",
       "  <thead>\n",
       "    <tr style=\"text-align: right;\">\n",
       "      <th></th>\n",
       "      <th>株式1</th>\n",
       "      <th>株式2</th>\n",
       "      <th>Z1</th>\n",
       "      <th>Z2</th>\n",
       "    </tr>\n",
       "  </thead>\n",
       "  <tbody>\n",
       "    <tr>\n",
       "      <th>1</th>\n",
       "      <td>-0.018962</td>\n",
       "      <td>-0.050496</td>\n",
       "      <td>-0.456066</td>\n",
       "      <td>-0.727507</td>\n",
       "    </tr>\n",
       "    <tr>\n",
       "      <th>2</th>\n",
       "      <td>0.062826</td>\n",
       "      <td>-0.048758</td>\n",
       "      <td>0.832030</td>\n",
       "      <td>-0.707429</td>\n",
       "    </tr>\n",
       "    <tr>\n",
       "      <th>3</th>\n",
       "      <td>-0.013610</td>\n",
       "      <td>-0.012075</td>\n",
       "      <td>-0.371774</td>\n",
       "      <td>-0.283765</td>\n",
       "    </tr>\n",
       "    <tr>\n",
       "      <th>4</th>\n",
       "      <td>0.056066</td>\n",
       "      <td>0.068790</td>\n",
       "      <td>0.725552</td>\n",
       "      <td>0.650164</td>\n",
       "    </tr>\n",
       "    <tr>\n",
       "      <th>5</th>\n",
       "      <td>0.067080</td>\n",
       "      <td>0.089188</td>\n",
       "      <td>0.899021</td>\n",
       "      <td>0.885749</td>\n",
       "    </tr>\n",
       "    <tr>\n",
       "      <th>6</th>\n",
       "      <td>-0.028852</td>\n",
       "      <td>-0.018136</td>\n",
       "      <td>-0.611818</td>\n",
       "      <td>-0.353763</td>\n",
       "    </tr>\n",
       "    <tr>\n",
       "      <th>7</th>\n",
       "      <td>-0.047495</td>\n",
       "      <td>-0.050773</td>\n",
       "      <td>-0.905427</td>\n",
       "      <td>-0.730697</td>\n",
       "    </tr>\n",
       "    <tr>\n",
       "      <th>8</th>\n",
       "      <td>0.120535</td>\n",
       "      <td>0.101427</td>\n",
       "      <td>1.740882</td>\n",
       "      <td>1.027101</td>\n",
       "    </tr>\n",
       "    <tr>\n",
       "      <th>9</th>\n",
       "      <td>-0.032983</td>\n",
       "      <td>0.101403</td>\n",
       "      <td>-0.676882</td>\n",
       "      <td>1.026829</td>\n",
       "    </tr>\n",
       "    <tr>\n",
       "      <th>10</th>\n",
       "      <td>-0.043627</td>\n",
       "      <td>-0.109621</td>\n",
       "      <td>-0.844510</td>\n",
       "      <td>-1.410359</td>\n",
       "    </tr>\n",
       "    <tr>\n",
       "      <th>11</th>\n",
       "      <td>-0.018399</td>\n",
       "      <td>-0.153966</td>\n",
       "      <td>-0.447201</td>\n",
       "      <td>-1.922508</td>\n",
       "    </tr>\n",
       "    <tr>\n",
       "      <th>12</th>\n",
       "      <td>0.029153</td>\n",
       "      <td>-0.094477</td>\n",
       "      <td>0.301711</td>\n",
       "      <td>-1.235453</td>\n",
       "    </tr>\n",
       "  </tbody>\n",
       "</table>\n",
       "</div>"
      ],
      "text/plain": [
       "         株式1       株式2        Z1        Z2\n",
       "1  -0.018962 -0.050496 -0.456066 -0.727507\n",
       "2   0.062826 -0.048758  0.832030 -0.707429\n",
       "3  -0.013610 -0.012075 -0.371774 -0.283765\n",
       "4   0.056066  0.068790  0.725552  0.650164\n",
       "5   0.067080  0.089188  0.899021  0.885749\n",
       "6  -0.028852 -0.018136 -0.611818 -0.353763\n",
       "7  -0.047495 -0.050773 -0.905427 -0.730697\n",
       "8   0.120535  0.101427  1.740882  1.027101\n",
       "9  -0.032983  0.101403 -0.676882  1.026829\n",
       "10 -0.043627 -0.109621 -0.844510 -1.410359\n",
       "11 -0.018399 -0.153966 -0.447201 -1.922508\n",
       "12  0.029153 -0.094477  0.301711 -1.235453"
      ]
     },
     "execution_count": 24,
     "metadata": {},
     "output_type": "execute_result"
    }
   ],
   "source": [
    "df"
   ]
  },
  {
   "cell_type": "markdown",
   "metadata": {},
   "source": [
    "### ポートフォリオのシミュレーション"
   ]
  },
  {
   "cell_type": "code",
   "execution_count": null,
   "metadata": {},
   "outputs": [],
   "source": [
    "assets0 = 10000\n",
    "stock1_ratio = 0.25\n"
   ]
  }
 ],
 "metadata": {
  "kernelspec": {
   "display_name": "Python 3",
   "language": "python",
   "name": "python3"
  },
  "language_info": {
   "codemirror_mode": {
    "name": "ipython",
    "version": 3
   },
   "file_extension": ".py",
   "mimetype": "text/x-python",
   "name": "python",
   "nbconvert_exporter": "python",
   "pygments_lexer": "ipython3",
   "version": "3.7.3"
  }
 },
 "nbformat": 4,
 "nbformat_minor": 2
}
