{
 "cells": [
  {
   "cell_type": "code",
   "execution_count": 4,
   "metadata": {},
   "outputs": [],
   "source": [
    "import numpy as np\n",
    "import pandas as pd"
   ]
  },
  {
   "cell_type": "markdown",
   "metadata": {},
   "source": [
    "# 27.4無リスク資産を加える\n",
    "前節のデータに無リスク資産を加えて、２つのリスキーな株式と無リスク資産からなるポートフォリオのシミュレーションを行う"
   ]
  },
  {
   "cell_type": "markdown",
   "metadata": {},
   "source": [
    "##### 以下、前節のコピー"
   ]
  },
  {
   "cell_type": "code",
   "execution_count": 8,
   "metadata": {},
   "outputs": [],
   "source": [
    "def sim_return(mu, delta_t, sigma, Z):\n",
    "    r = mu * delta_t + sigma*np.sqrt(delta_t) * Z\n",
    "    return r\n",
    "\n",
    "#株式１、２の平均μ\n",
    "mu1 = 0.12\n",
    "mu2 = 0.15\n",
    "#株式１、２の標準偏差σ\n",
    "sigma1 = 0.22\n",
    "sigma2 = 0.3\n",
    "#相関係数ρ\n",
    "rho = 0.5\n",
    "#月次リターン 1/12 = 0.0833\n",
    "delta_t = 0.0833\n",
    "\n",
    "Z1 = np.random.randn(12)\n",
    "Z3 = np.random.randn(12)\n",
    "Z2 = rho * Z1 + np.sqrt(1-rho**2)*Z3\n",
    "\n",
    "returns1 = np.zeros(12)\n",
    "returns2 = np.zeros(12)\n",
    "months = np.arange(1,13)\n",
    "\n",
    "for i in range(12):\n",
    "    returns1[i] = sim_return(mu1, delta_t, sigma1, Z1[i])\n",
    "    returns2[i] = sim_return(mu2, delta_t, sigma2, Z2[i])\n",
    "\n",
    "df_risk = pd.DataFrame({\"株式1のリターン\":returns1, \"株式2のリターン\":returns2, \"Z1\":Z1, \"Z2\":Z2}, index=months)"
   ]
  },
  {
   "cell_type": "code",
   "execution_count": 7,
   "metadata": {},
   "outputs": [
    {
     "data": {
      "text/html": [
       "<div>\n",
       "<style scoped>\n",
       "    .dataframe tbody tr th:only-of-type {\n",
       "        vertical-align: middle;\n",
       "    }\n",
       "\n",
       "    .dataframe tbody tr th {\n",
       "        vertical-align: top;\n",
       "    }\n",
       "\n",
       "    .dataframe thead th {\n",
       "        text-align: right;\n",
       "    }\n",
       "</style>\n",
       "<table border=\"1\" class=\"dataframe\">\n",
       "  <thead>\n",
       "    <tr style=\"text-align: right;\">\n",
       "      <th></th>\n",
       "      <th>株式1のリターン</th>\n",
       "      <th>株式2のリターン</th>\n",
       "      <th>Z1</th>\n",
       "      <th>Z2</th>\n",
       "    </tr>\n",
       "  </thead>\n",
       "  <tbody>\n",
       "    <tr>\n",
       "      <th>1</th>\n",
       "      <td>-0.024477</td>\n",
       "      <td>-0.039142</td>\n",
       "      <td>-0.542911</td>\n",
       "      <td>-0.596367</td>\n",
       "    </tr>\n",
       "    <tr>\n",
       "      <th>2</th>\n",
       "      <td>0.098116</td>\n",
       "      <td>0.131516</td>\n",
       "      <td>1.387806</td>\n",
       "      <td>1.374612</td>\n",
       "    </tr>\n",
       "    <tr>\n",
       "      <th>3</th>\n",
       "      <td>0.037647</td>\n",
       "      <td>-0.027018</td>\n",
       "      <td>0.435481</td>\n",
       "      <td>-0.456346</td>\n",
       "    </tr>\n",
       "    <tr>\n",
       "      <th>4</th>\n",
       "      <td>-0.074959</td>\n",
       "      <td>0.057398</td>\n",
       "      <td>-1.337956</td>\n",
       "      <td>0.518596</td>\n",
       "    </tr>\n",
       "    <tr>\n",
       "      <th>5</th>\n",
       "      <td>0.153666</td>\n",
       "      <td>0.083209</td>\n",
       "      <td>2.262674</td>\n",
       "      <td>0.816699</td>\n",
       "    </tr>\n",
       "    <tr>\n",
       "      <th>6</th>\n",
       "      <td>0.026440</td>\n",
       "      <td>0.021712</td>\n",
       "      <td>0.258983</td>\n",
       "      <td>0.106444</td>\n",
       "    </tr>\n",
       "    <tr>\n",
       "      <th>7</th>\n",
       "      <td>0.025096</td>\n",
       "      <td>-0.145788</td>\n",
       "      <td>0.237810</td>\n",
       "      <td>-1.828057</td>\n",
       "    </tr>\n",
       "    <tr>\n",
       "      <th>8</th>\n",
       "      <td>0.033676</td>\n",
       "      <td>-0.009802</td>\n",
       "      <td>0.372932</td>\n",
       "      <td>-0.257518</td>\n",
       "    </tr>\n",
       "    <tr>\n",
       "      <th>9</th>\n",
       "      <td>0.104141</td>\n",
       "      <td>0.079870</td>\n",
       "      <td>1.482693</td>\n",
       "      <td>0.778130</td>\n",
       "    </tr>\n",
       "    <tr>\n",
       "      <th>10</th>\n",
       "      <td>-0.089007</td>\n",
       "      <td>-0.178574</td>\n",
       "      <td>-1.559210</td>\n",
       "      <td>-2.206721</td>\n",
       "    </tr>\n",
       "    <tr>\n",
       "      <th>11</th>\n",
       "      <td>-0.025450</td>\n",
       "      <td>-0.009921</td>\n",
       "      <td>-0.558249</td>\n",
       "      <td>-0.258894</td>\n",
       "    </tr>\n",
       "    <tr>\n",
       "      <th>12</th>\n",
       "      <td>-0.018644</td>\n",
       "      <td>-0.074316</td>\n",
       "      <td>-0.451057</td>\n",
       "      <td>-1.002603</td>\n",
       "    </tr>\n",
       "  </tbody>\n",
       "</table>\n",
       "</div>"
      ],
      "text/plain": [
       "    株式1のリターン  株式2のリターン        Z1        Z2\n",
       "1  -0.024477 -0.039142 -0.542911 -0.596367\n",
       "2   0.098116  0.131516  1.387806  1.374612\n",
       "3   0.037647 -0.027018  0.435481 -0.456346\n",
       "4  -0.074959  0.057398 -1.337956  0.518596\n",
       "5   0.153666  0.083209  2.262674  0.816699\n",
       "6   0.026440  0.021712  0.258983  0.106444\n",
       "7   0.025096 -0.145788  0.237810 -1.828057\n",
       "8   0.033676 -0.009802  0.372932 -0.257518\n",
       "9   0.104141  0.079870  1.482693  0.778130\n",
       "10 -0.089007 -0.178574 -1.559210 -2.206721\n",
       "11 -0.025450 -0.009921 -0.558249 -0.258894\n",
       "12 -0.018644 -0.074316 -0.451057 -1.002603"
      ]
     },
     "execution_count": 7,
     "metadata": {},
     "output_type": "execute_result"
    }
   ],
   "source": [
    "df_risk"
   ]
  },
  {
   "cell_type": "markdown",
   "metadata": {},
   "source": [
    "### リスク資産のみでのポートフォリオ"
   ]
  },
  {
   "cell_type": "code",
   "execution_count": 6,
   "metadata": {},
   "outputs": [
    {
     "name": "stdout",
     "output_type": "stream",
     "text": [
      "期間末の価値：  9911.032650156569\n",
      "期待リターン:  0.1425\n",
      "実際のリターン:  -0.008936547239660128\n",
      "リターンの標準偏差:  0.25695330315059195\n"
     ]
    }
   ],
   "source": [
    "#初期条件\n",
    "assets0 = 10000\n",
    "stock1_ratio = 0.25\n",
    "\n",
    "\n",
    "#上のシミュレーションに基づく結果\n",
    "#期間末の価値\n",
    "assets_after = assets0*stock1_ratio*np.exp(df[\"株式1のリターン\"].sum()) + assets0*(1-stock1_ratio)*np.exp(df[\"株式2のリターン\"].sum())\n",
    "#期待リターン\n",
    "expected_return = stock1_ratio*mu1 + (1-stock1_ratio)*mu2\n",
    "#実際のリターン\n",
    "real_return = np.log(assets_after/assets0)\n",
    "#リターンの標準偏差\n",
    "std_return = np.sqrt((stock1_ratio**2)*(sigma1**2) + 2*stock1_ratio*(1-stock1_ratio)*rho*sigma1*sigma2 + ((1-stock1_ratio)**2)*(sigma2**2))\n",
    "\n"
   ]
  },
  {
   "cell_type": "markdown",
   "metadata": {},
   "source": [
    "### 無リスク資産を加えたポートフォリオ"
   ]
  },
  {
   "cell_type": "code",
   "execution_count": null,
   "metadata": {},
   "outputs": [],
   "source": [
    "#初期条件\n",
    "nonrisk_ratio = 0.6\n"
   ]
  }
 ],
 "metadata": {
  "kernelspec": {
   "display_name": "Python 3",
   "language": "python",
   "name": "python3"
  },
  "language_info": {
   "codemirror_mode": {
    "name": "ipython",
    "version": 3
   },
   "file_extension": ".py",
   "mimetype": "text/x-python",
   "name": "python",
   "nbconvert_exporter": "python",
   "pygments_lexer": "ipython3",
   "version": "3.7.3"
  }
 },
 "nbformat": 4,
 "nbformat_minor": 2
}
