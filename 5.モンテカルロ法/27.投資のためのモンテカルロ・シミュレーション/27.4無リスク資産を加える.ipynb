{
 "cells": [
  {
   "cell_type": "code",
   "execution_count": 4,
   "metadata": {},
   "outputs": [],
   "source": [
    "import numpy as np\n",
    "import pandas as pd"
   ]
  },
  {
   "cell_type": "markdown",
   "metadata": {},
   "source": [
    "# 27.4無リスク資産を加える\n",
    "前節のデータに無リスク資産を加えて、２つのリスキーな株式と無リスク資産からなるポートフォリオのシミュレーションを行う"
   ]
  },
  {
   "cell_type": "markdown",
   "metadata": {},
   "source": [
    "##### 以下、前節のコピー"
   ]
  },
  {
   "cell_type": "code",
   "execution_count": 8,
   "metadata": {},
   "outputs": [],
   "source": [
    "def sim_return(mu, delta_t, sigma, Z):\n",
    "    r = mu * delta_t + sigma*np.sqrt(delta_t) * Z\n",
    "    return r\n",
    "\n",
    "#株式１、２の平均μ\n",
    "mu1 = 0.12\n",
    "mu2 = 0.15\n",
    "#株式１、２の標準偏差σ\n",
    "sigma1 = 0.22\n",
    "sigma2 = 0.3\n",
    "#相関係数ρ\n",
    "rho = 0.5\n",
    "#月次リターン 1/12 = 0.0833\n",
    "delta_t = 0.0833\n",
    "\n",
    "Z1 = np.random.randn(12)\n",
    "Z3 = np.random.randn(12)\n",
    "Z2 = rho * Z1 + np.sqrt(1-rho**2)*Z3\n",
    "\n",
    "returns1 = np.zeros(12)\n",
    "returns2 = np.zeros(12)\n",
    "months = np.arange(1,13)\n",
    "\n",
    "for i in range(12):\n",
    "    returns1[i] = sim_return(mu1, delta_t, sigma1, Z1[i])\n",
    "    returns2[i] = sim_return(mu2, delta_t, sigma2, Z2[i])\n",
    "\n",
    "df_risk = pd.DataFrame({\"株式1のリターン\":returns1, \"株式2のリターン\":returns2, \"Z1\":Z1, \"Z2\":Z2}, index=months)"
   ]
  },
  {
   "cell_type": "code",
   "execution_count": 9,
   "metadata": {},
   "outputs": [
    {
     "data": {
      "text/html": [
       "<div>\n",
       "<style scoped>\n",
       "    .dataframe tbody tr th:only-of-type {\n",
       "        vertical-align: middle;\n",
       "    }\n",
       "\n",
       "    .dataframe tbody tr th {\n",
       "        vertical-align: top;\n",
       "    }\n",
       "\n",
       "    .dataframe thead th {\n",
       "        text-align: right;\n",
       "    }\n",
       "</style>\n",
       "<table border=\"1\" class=\"dataframe\">\n",
       "  <thead>\n",
       "    <tr style=\"text-align: right;\">\n",
       "      <th></th>\n",
       "      <th>株式1のリターン</th>\n",
       "      <th>株式2のリターン</th>\n",
       "      <th>Z1</th>\n",
       "      <th>Z2</th>\n",
       "    </tr>\n",
       "  </thead>\n",
       "  <tbody>\n",
       "    <tr>\n",
       "      <th>1</th>\n",
       "      <td>-0.046288</td>\n",
       "      <td>-0.105481</td>\n",
       "      <td>-0.886415</td>\n",
       "      <td>-1.362545</td>\n",
       "    </tr>\n",
       "    <tr>\n",
       "      <th>2</th>\n",
       "      <td>-0.028376</td>\n",
       "      <td>0.047652</td>\n",
       "      <td>-0.604328</td>\n",
       "      <td>0.406036</td>\n",
       "    </tr>\n",
       "    <tr>\n",
       "      <th>3</th>\n",
       "      <td>-0.101191</td>\n",
       "      <td>-0.091602</td>\n",
       "      <td>-1.751099</td>\n",
       "      <td>-1.202247</td>\n",
       "    </tr>\n",
       "    <tr>\n",
       "      <th>4</th>\n",
       "      <td>-0.019222</td>\n",
       "      <td>-0.014837</td>\n",
       "      <td>-0.460150</td>\n",
       "      <td>-0.315666</td>\n",
       "    </tr>\n",
       "    <tr>\n",
       "      <th>5</th>\n",
       "      <td>-0.029289</td>\n",
       "      <td>-0.006858</td>\n",
       "      <td>-0.618709</td>\n",
       "      <td>-0.223515</td>\n",
       "    </tr>\n",
       "    <tr>\n",
       "      <th>6</th>\n",
       "      <td>0.003356</td>\n",
       "      <td>0.083481</td>\n",
       "      <td>-0.104571</td>\n",
       "      <td>0.819843</td>\n",
       "    </tr>\n",
       "    <tr>\n",
       "      <th>7</th>\n",
       "      <td>-0.052514</td>\n",
       "      <td>-0.107442</td>\n",
       "      <td>-0.984478</td>\n",
       "      <td>-1.385192</td>\n",
       "    </tr>\n",
       "    <tr>\n",
       "      <th>8</th>\n",
       "      <td>-0.011583</td>\n",
       "      <td>0.101489</td>\n",
       "      <td>-0.339856</td>\n",
       "      <td>1.027816</td>\n",
       "    </tr>\n",
       "    <tr>\n",
       "      <th>9</th>\n",
       "      <td>0.033404</td>\n",
       "      <td>0.068873</td>\n",
       "      <td>0.368649</td>\n",
       "      <td>0.651129</td>\n",
       "    </tr>\n",
       "    <tr>\n",
       "      <th>10</th>\n",
       "      <td>0.062346</td>\n",
       "      <td>-0.084964</td>\n",
       "      <td>0.824467</td>\n",
       "      <td>-1.125589</td>\n",
       "    </tr>\n",
       "    <tr>\n",
       "      <th>11</th>\n",
       "      <td>-0.059801</td>\n",
       "      <td>0.037430</td>\n",
       "      <td>-1.099242</td>\n",
       "      <td>0.287983</td>\n",
       "    </tr>\n",
       "    <tr>\n",
       "      <th>12</th>\n",
       "      <td>0.095638</td>\n",
       "      <td>-0.028039</td>\n",
       "      <td>1.348783</td>\n",
       "      <td>-0.468138</td>\n",
       "    </tr>\n",
       "  </tbody>\n",
       "</table>\n",
       "</div>"
      ],
      "text/plain": [
       "    株式1のリターン  株式2のリターン        Z1        Z2\n",
       "1  -0.046288 -0.105481 -0.886415 -1.362545\n",
       "2  -0.028376  0.047652 -0.604328  0.406036\n",
       "3  -0.101191 -0.091602 -1.751099 -1.202247\n",
       "4  -0.019222 -0.014837 -0.460150 -0.315666\n",
       "5  -0.029289 -0.006858 -0.618709 -0.223515\n",
       "6   0.003356  0.083481 -0.104571  0.819843\n",
       "7  -0.052514 -0.107442 -0.984478 -1.385192\n",
       "8  -0.011583  0.101489 -0.339856  1.027816\n",
       "9   0.033404  0.068873  0.368649  0.651129\n",
       "10  0.062346 -0.084964  0.824467 -1.125589\n",
       "11 -0.059801  0.037430 -1.099242  0.287983\n",
       "12  0.095638 -0.028039  1.348783 -0.468138"
      ]
     },
     "execution_count": 9,
     "metadata": {},
     "output_type": "execute_result"
    }
   ],
   "source": [
    "df_risk"
   ]
  },
  {
   "cell_type": "markdown",
   "metadata": {},
   "source": [
    "### リスク資産のみでのポートフォリオ"
   ]
  },
  {
   "cell_type": "code",
   "execution_count": 6,
   "metadata": {},
   "outputs": [
    {
     "name": "stdout",
     "output_type": "stream",
     "text": [
      "期間末の価値：  9911.032650156569\n",
      "期待リターン:  0.1425\n",
      "実際のリターン:  -0.008936547239660128\n",
      "リターンの標準偏差:  0.25695330315059195\n"
     ]
    }
   ],
   "source": [
    "#初期条件\n",
    "assets0 = 10000\n",
    "stock1_ratio = 0.25\n",
    "\n",
    "\n",
    "#上のシミュレーションに基づく結果\n",
    "#期間末の価値\n",
    "assets_after = assets0*stock1_ratio*np.exp(df[\"株式1のリターン\"].sum()) + assets0*(1-stock1_ratio)*np.exp(df[\"株式2のリターン\"].sum())\n",
    "#期待リターン\n",
    "expected_return = stock1_ratio*mu1 + (1-stock1_ratio)*mu2\n",
    "#実際のリターン\n",
    "real_return = np.log(assets_after/assets0)\n",
    "#リターンの標準偏差\n",
    "std_return = np.sqrt((stock1_ratio**2)*(sigma1**2) + 2*stock1_ratio*(1-stock1_ratio)*rho*sigma1*sigma2 + ((1-stock1_ratio)**2)*(sigma2**2))\n",
    "\n"
   ]
  },
  {
   "cell_type": "markdown",
   "metadata": {},
   "source": [
    "### 無リスク資産を加えたポートフォリオ"
   ]
  },
  {
   "cell_type": "code",
   "execution_count": null,
   "metadata": {},
   "outputs": [],
   "source": [
    "#初期条件\n",
    "nonrisk_ratio = 0.6\n"
   ]
  }
 ],
 "metadata": {
  "kernelspec": {
   "display_name": "Python 3",
   "language": "python",
   "name": "python3"
  },
  "language_info": {
   "codemirror_mode": {
    "name": "ipython",
    "version": 3
   },
   "file_extension": ".py",
   "mimetype": "text/x-python",
   "name": "python",
   "nbconvert_exporter": "python",
   "pygments_lexer": "ipython3",
   "version": "3.7.3"
  }
 },
 "nbformat": 4,
 "nbformat_minor": 2
}
