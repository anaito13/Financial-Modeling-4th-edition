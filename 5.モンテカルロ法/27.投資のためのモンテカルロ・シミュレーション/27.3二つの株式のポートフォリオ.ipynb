{
 "cells": [
  {
   "cell_type": "code",
   "execution_count": 3,
   "metadata": {},
   "outputs": [],
   "source": [
    "import numpy as np\n",
    "import pandas as pd\n"
   ]
  },
  {
   "cell_type": "markdown",
   "metadata": {},
   "source": [
    "# 27.3二つの株式のポートフォリオ\n",
    "$\n",
    "Z_2 = \\rho Z_1 + \\sqrt{1-\\rho^2}Z_3\n",
    "$\n",
    "の時、標準正規乱数$Z_1$と$Z_2$は相関$\\rho$を持つことを利用する。"
   ]
  },
  {
   "cell_type": "markdown",
   "metadata": {},
   "source": [
    "### 時刻tにおける株式リターンを計算する関数作成"
   ]
  },
  {
   "cell_type": "code",
   "execution_count": 7,
   "metadata": {},
   "outputs": [],
   "source": [
    "def sim_return(mu, delta_t, sigma, Z):\n",
    "    r = mu * delta_t + sigma*np.sqrt(delta_t) * Z\n",
    "    return r"
   ]
  },
  {
   "cell_type": "markdown",
   "metadata": {},
   "source": [
    "### 変数の定義"
   ]
  },
  {
   "cell_type": "code",
   "execution_count": 8,
   "metadata": {},
   "outputs": [],
   "source": [
    "#株式１、２の平均μ\n",
    "mu1 = 0.12\n",
    "mu2 = 0.15\n",
    "#株式１、２の標準偏差σ\n",
    "sigma1 = 0.22\n",
    "sigma2 = 0.3\n",
    "#相関係数ρ\n",
    "rho = 0.5\n",
    "#月次リターン 1/12 = 0.0833\n",
    "delta_t = 0.0833"
   ]
  },
  {
   "cell_type": "markdown",
   "metadata": {},
   "source": [
    "### 乱数作成"
   ]
  },
  {
   "cell_type": "code",
   "execution_count": 22,
   "metadata": {},
   "outputs": [],
   "source": [
    "Z1 = np.random.randn(12)\n",
    "Z3 = np.random.randn(12)\n",
    "Z2 = rho * Z1 + np.sqrt(1-rho**2)*Z3"
   ]
  },
  {
   "cell_type": "markdown",
   "metadata": {},
   "source": [
    "### 計算"
   ]
  },
  {
   "cell_type": "code",
   "execution_count": 23,
   "metadata": {},
   "outputs": [],
   "source": [
    "returns1 = np.zeros(12)\n",
    "returns2 = np.zeros(12)\n",
    "months = np.arange(1,13)\n",
    "\n",
    "for i in range(12):\n",
    "    returns1[i] = sim_return(mu1, delta_t, sigma1, Z1[i])\n",
    "    returns2[i] = sim_return(mu2, delta_t, sigma2, Z2[i])"
   ]
  },
  {
   "cell_type": "code",
   "execution_count": 24,
   "metadata": {},
   "outputs": [],
   "source": [
    "df = pd.DataFrame({\"株式1のリターン\":returns1, \"株式2のリターン\":returns2, \"Z1\":Z1, \"Z2\":Z2}, index=months)"
   ]
  },
  {
   "cell_type": "code",
   "execution_count": 25,
   "metadata": {},
   "outputs": [
    {
     "data": {
      "text/html": [
       "<div>\n",
       "<style scoped>\n",
       "    .dataframe tbody tr th:only-of-type {\n",
       "        vertical-align: middle;\n",
       "    }\n",
       "\n",
       "    .dataframe tbody tr th {\n",
       "        vertical-align: top;\n",
       "    }\n",
       "\n",
       "    .dataframe thead th {\n",
       "        text-align: right;\n",
       "    }\n",
       "</style>\n",
       "<table border=\"1\" class=\"dataframe\">\n",
       "  <thead>\n",
       "    <tr style=\"text-align: right;\">\n",
       "      <th></th>\n",
       "      <th>株式1のリターン</th>\n",
       "      <th>株式2のリターン</th>\n",
       "      <th>Z1</th>\n",
       "      <th>Z2</th>\n",
       "    </tr>\n",
       "  </thead>\n",
       "  <tbody>\n",
       "    <tr>\n",
       "      <th>1</th>\n",
       "      <td>-0.028090</td>\n",
       "      <td>0.083914</td>\n",
       "      <td>-0.599822</td>\n",
       "      <td>0.824839</td>\n",
       "    </tr>\n",
       "    <tr>\n",
       "      <th>2</th>\n",
       "      <td>0.084823</td>\n",
       "      <td>-0.140322</td>\n",
       "      <td>1.178450</td>\n",
       "      <td>-1.764937</td>\n",
       "    </tr>\n",
       "    <tr>\n",
       "      <th>3</th>\n",
       "      <td>0.071709</td>\n",
       "      <td>-0.010487</td>\n",
       "      <td>0.971922</td>\n",
       "      <td>-0.265426</td>\n",
       "    </tr>\n",
       "    <tr>\n",
       "      <th>4</th>\n",
       "      <td>0.082291</td>\n",
       "      <td>0.142596</td>\n",
       "      <td>1.138580</td>\n",
       "      <td>1.502579</td>\n",
       "    </tr>\n",
       "    <tr>\n",
       "      <th>5</th>\n",
       "      <td>0.007564</td>\n",
       "      <td>-0.025387</td>\n",
       "      <td>-0.038307</td>\n",
       "      <td>-0.437517</td>\n",
       "    </tr>\n",
       "    <tr>\n",
       "      <th>6</th>\n",
       "      <td>0.033727</td>\n",
       "      <td>0.028457</td>\n",
       "      <td>0.373748</td>\n",
       "      <td>0.184345</td>\n",
       "    </tr>\n",
       "    <tr>\n",
       "      <th>7</th>\n",
       "      <td>-0.005583</td>\n",
       "      <td>-0.047243</td>\n",
       "      <td>-0.245353</td>\n",
       "      <td>-0.689931</td>\n",
       "    </tr>\n",
       "    <tr>\n",
       "      <th>8</th>\n",
       "      <td>-0.033744</td>\n",
       "      <td>-0.055345</td>\n",
       "      <td>-0.688872</td>\n",
       "      <td>-0.783507</td>\n",
       "    </tr>\n",
       "    <tr>\n",
       "      <th>9</th>\n",
       "      <td>0.063410</td>\n",
       "      <td>0.099306</td>\n",
       "      <td>0.841227</td>\n",
       "      <td>1.002613</td>\n",
       "    </tr>\n",
       "    <tr>\n",
       "      <th>10</th>\n",
       "      <td>0.049775</td>\n",
       "      <td>-0.043732</td>\n",
       "      <td>0.626475</td>\n",
       "      <td>-0.649382</td>\n",
       "    </tr>\n",
       "    <tr>\n",
       "      <th>11</th>\n",
       "      <td>-0.074230</td>\n",
       "      <td>0.037343</td>\n",
       "      <td>-1.326488</td>\n",
       "      <td>0.286980</td>\n",
       "    </tr>\n",
       "    <tr>\n",
       "      <th>12</th>\n",
       "      <td>0.063788</td>\n",
       "      <td>0.167631</td>\n",
       "      <td>0.847167</td>\n",
       "      <td>1.791716</td>\n",
       "    </tr>\n",
       "  </tbody>\n",
       "</table>\n",
       "</div>"
      ],
      "text/plain": [
       "    株式1のリターン  株式2のリターン        Z1        Z2\n",
       "1  -0.028090  0.083914 -0.599822  0.824839\n",
       "2   0.084823 -0.140322  1.178450 -1.764937\n",
       "3   0.071709 -0.010487  0.971922 -0.265426\n",
       "4   0.082291  0.142596  1.138580  1.502579\n",
       "5   0.007564 -0.025387 -0.038307 -0.437517\n",
       "6   0.033727  0.028457  0.373748  0.184345\n",
       "7  -0.005583 -0.047243 -0.245353 -0.689931\n",
       "8  -0.033744 -0.055345 -0.688872 -0.783507\n",
       "9   0.063410  0.099306  0.841227  1.002613\n",
       "10  0.049775 -0.043732  0.626475 -0.649382\n",
       "11 -0.074230  0.037343 -1.326488  0.286980\n",
       "12  0.063788  0.167631  0.847167  1.791716"
      ]
     },
     "execution_count": 25,
     "metadata": {},
     "output_type": "execute_result"
    }
   ],
   "source": [
    "df"
   ]
  },
  {
   "cell_type": "markdown",
   "metadata": {},
   "source": [
    "### ポートフォリオのシミュレーション"
   ]
  },
  {
   "cell_type": "code",
   "execution_count": 29,
   "metadata": {},
   "outputs": [
    {
     "name": "stdout",
     "output_type": "stream",
     "text": [
      "期間末の価値：  12930.395752841438\n",
      "期待リターン:  0.1425\n",
      "実際のリターン:  0.25699570665631677\n",
      "リターンの標準偏差:  0.25695330315059195\n"
     ]
    }
   ],
   "source": [
    "#初期条件\n",
    "assets0 = 10000\n",
    "stock1_ratio = 0.25\n",
    "\n",
    "#上のシミュレーションに基づく結果\n",
    "#期間末の価値\n",
    "assets_after = assets0*stock1_ratio*np.exp(df[\"株式1のリターン\"].sum()) + assets0*(1-stock1_ratio)*np.exp(df[\"株式2のリターン\"].sum())\n",
    "#期待リターン\n",
    "expected_return = stock1_ratio*mu1 + (1-stock1_ratio)*mu2\n",
    "#実際のリターン\n",
    "real_return = np.log(assets_after/assets0)\n",
    "#リターンの標準偏差\n",
    "std_return = np.sqrt((stock1_ratio**2)*(sigma1**2) + 2*stock1_ratio*(1-stock1_ratio)*rho*sigma1*sigma2 + ((1-stock1_ratio)**2)*(sigma2**2))\n",
    "\n",
    "print(\"期間末の価値： \",assets_after)\n",
    "print(\"期待リターン: \",expected_return)\n",
    "print(\"実際のリターン: \",real_return)\n",
    "print(\"リターンの標準偏差: \",std_return)\n"
   ]
  },
  {
   "cell_type": "code",
   "execution_count": null,
   "metadata": {},
   "outputs": [],
   "source": []
  }
 ],
 "metadata": {
  "kernelspec": {
   "display_name": "Python 3",
   "language": "python",
   "name": "python3"
  },
  "language_info": {
   "codemirror_mode": {
    "name": "ipython",
    "version": 3
   },
   "file_extension": ".py",
   "mimetype": "text/x-python",
   "name": "python",
   "nbconvert_exporter": "python",
   "pygments_lexer": "ipython3",
   "version": "3.7.3"
  }
 },
 "nbformat": 4,
 "nbformat_minor": 2
}
