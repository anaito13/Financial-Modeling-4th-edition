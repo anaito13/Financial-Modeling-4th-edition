{
 "cells": [
  {
   "cell_type": "code",
   "execution_count": 2,
   "metadata": {},
   "outputs": [],
   "source": [
    "import numpy as np\n",
    "import pandas as pd\n",
    "from sklearn.linear_model import LinearRegression"
   ]
  },
  {
   "cell_type": "markdown",
   "metadata": {},
   "source": [
    "# 27.7ベータとリターン\n",
    "今回使う数式\n",
    "\n",
    "$$\n",
    "\\beta_i = \\frac{Cov(r_i,r_M)}{Var(r_M)} = \\frac{\\rho \\sigma_1 \\sigma_M}{\\sigma_m^2} = \\frac{\\rho \\sigma_i}{\\sigma_M}\n",
    "$$\n",
    "\n",
    "$$\n",
    "\\begin{align*}\n",
    "r_{i,t} = \\alpha_i + \\beta_i r_{Mt}\n",
    "\\end{align*}\n",
    "$$\n",
    "\n",
    "$$\n",
    "\\begin{align*}\n",
    "&\\alpha_i = E(r_M) - \\beta_i E(r_i)\\\\\n",
    "&\\beta_i = \\frac{\\rho \\sigma_i}{\\sigma_M}\\\\   \n",
    "&R^2 = \\rho ^2\\\\\n",
    "\\end{align*}\n",
    "$$"
   ]
  },
  {
   "cell_type": "code",
   "execution_count": 6,
   "metadata": {},
   "outputs": [],
   "source": [
    "#初期設定\n",
    "mu_i = 0.06 #株式iの平均\n",
    "sigma_i = 0.22 #株式iの標準偏差\n",
    "mu_m = 0.1#マーケットの平均\n",
    "sigma_m = 0.15 #マーケットの標準偏差\n",
    "rho = 0.3 #iとMの相関"
   ]
  },
  {
   "cell_type": "code",
   "execution_count": 5,
   "metadata": {},
   "outputs": [],
   "source": [
    "#予想beta\n",
    "betai_est = rho * sigma_i / sigme_m\n",
    "#予想alpha\n",
    "alphai_est = mu_i - betai_est*mu_m\n",
    "#予想R^2\n",
    "R2_est = rho**2"
   ]
  },
  {
   "cell_type": "code",
   "execution_count": 40,
   "metadata": {},
   "outputs": [],
   "source": [
    "#乱数発生(27.3参照)\n",
    "Z1 = np.random.randn(60)\n",
    "Z3 = np.random.randn(60)\n",
    "Z2 = rho * Z1 + np.sqrt(1-rho**2)*Z3\n",
    "ret = mu_i + sigma_i*Z1*np.sqrt(1/12)\n",
    "market = mu_m + sigma_m*Z2*np.sqrt(1/12)\n",
    "\n",
    "df = pd.DataFrame({\"Z1\":Z1,\n",
    "                  \"Z2\":Z2,\n",
    "                  \"return\":ret,\n",
    "                  \"market\":market},\n",
    "                 index = range(1,61))"
   ]
  },
  {
   "cell_type": "code",
   "execution_count": 41,
   "metadata": {},
   "outputs": [],
   "source": [
    "#df"
   ]
  },
  {
   "cell_type": "code",
   "execution_count": 42,
   "metadata": {},
   "outputs": [],
   "source": [
    "model = LinearRegression()\n",
    "model.fit(ret.reshape([-1,1]),market)\n",
    "alphai = model.intercept_\n",
    "betai = model.coef_[0]\n",
    "R2 = model.score(ret.reshape([-1,1]),market)"
   ]
  },
  {
   "cell_type": "code",
   "execution_count": 43,
   "metadata": {},
   "outputs": [
    {
     "name": "stdout",
     "output_type": "stream",
     "text": [
      "αの予想値:  0.015999999999999986   実際のα:  0.0803873100252558\n",
      "βの予想値:  0.44000000000000006   実際のβ:  0.2924086778516175\n",
      "R^2の予想値:  0.09   実際のR^2:  0.2137267480173688\n"
     ]
    }
   ],
   "source": [
    "print(\"αの予想値: \", alphai_est,\"  実際のα: \", alphai)\n",
    "print(\"βの予想値: \", betai_est, \"  実際のβ: \",betai)\n",
    "print(\"R^2の予想値: \", R2_est, \"  実際のR^2: \", R2)"
   ]
  },
  {
   "cell_type": "markdown",
   "metadata": {},
   "source": [
    "実行するたびに実際の値が変わる。理論値と近いこともあれば、全く離れていることもある。"
   ]
  },
  {
   "cell_type": "code",
   "execution_count": null,
   "metadata": {},
   "outputs": [],
   "source": []
  }
 ],
 "metadata": {
  "kernelspec": {
   "display_name": "Python 3",
   "language": "python",
   "name": "python3"
  },
  "language_info": {
   "codemirror_mode": {
    "name": "ipython",
    "version": 3
   },
   "file_extension": ".py",
   "mimetype": "text/x-python",
   "name": "python",
   "nbconvert_exporter": "python",
   "pygments_lexer": "ipython3",
   "version": "3.7.3"
  }
 },
 "nbformat": 4,
 "nbformat_minor": 2
}
