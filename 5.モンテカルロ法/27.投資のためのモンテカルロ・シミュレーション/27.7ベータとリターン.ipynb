{
 "cells": [
  {
   "cell_type": "code",
   "execution_count": 1,
   "metadata": {},
   "outputs": [],
   "source": [
    "import numpy as np\n",
    "import pandas as pd"
   ]
  },
  {
   "cell_type": "markdown",
   "metadata": {},
   "source": [
    "# 27.7ベータとリターン\n",
    "今回使う数式\n",
    "\n",
    "$$\n",
    "\\beta_1 = \\frac{Cov(r_i,r_M)}{Var(r_M)} = \\frac{\\rho \\sigma_1 \\sigma_M}{\\sigma_m^2} = \\frac{\\rho \\sigma_i}{\\sigma_M}\n",
    "$$\n",
    "\n",
    "$$\n",
    "\\begin{align*}\n",
    "r_{i,t} = \\alpha_i + \\beta_i r_{Mt}\n",
    "\\end{align*}\n",
    "$$\n",
    "\n",
    "$$\n",
    "\\begin{align*}\n",
    "&\\alpha_i = E(r_M) - \\beta_i E(r_i)\\\\\n",
    "&\\beta_i = \\frac{\\rho \\sigma_i}{\\sigma_M}\\\\   \n",
    "&R^2 = \\rho ^2\\\\\n",
    "\\end{align*}\n",
    "$$"
   ]
  },
  {
   "cell_type": "code",
   "execution_count": 2,
   "metadata": {},
   "outputs": [],
   "source": [
    "#初期設定\n",
    "i_ex = 0.06 #株式iの平均\n",
    "i_std = 0.22 #株式iの標準偏差\n",
    "M_ex = 0.1#マーケットの平均\n",
    "M_std = 0.15 #マーケットの標準偏差\n",
    "corr = 0.3 #iとMの相関\n",
    "beta_ex = 0.44 #iのベータの平均"
   ]
  },
  {
   "cell_type": "code",
   "execution_count": null,
   "metadata": {},
   "outputs": [],
   "source": []
  }
 ],
 "metadata": {
  "kernelspec": {
   "display_name": "Python 3",
   "language": "python",
   "name": "python3"
  },
  "language_info": {
   "codemirror_mode": {
    "name": "ipython",
    "version": 3
   },
   "file_extension": ".py",
   "mimetype": "text/x-python",
   "name": "python",
   "nbconvert_exporter": "python",
   "pygments_lexer": "ipython3",
   "version": "3.7.3"
  }
 },
 "nbformat": 4,
 "nbformat_minor": 2
}
