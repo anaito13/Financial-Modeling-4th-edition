{
 "cells": [
  {
   "cell_type": "code",
   "execution_count": 1,
   "metadata": {},
   "outputs": [],
   "source": [
    "import numpy as np\n",
    "import pandas as pd\n",
    "import matplotlib.pyplot as plt\n",
    "import pandas_datareader.data as pdf\n",
    "%matplotlib inline"
   ]
  },
  {
   "cell_type": "markdown",
   "metadata": {},
   "source": [
    "# 単独株式の価格とリターンのシミュレーション\n",
    "\n",
    "時刻tにおける株式リターン：\n",
    "$\n",
    "r_t = \\mu  \\Delta t + \\sigma \\sqrt{\\Delta t}Z \n",
    "$\n",
    "\n",
    "時刻tにおける株価：\n",
    "$\n",
    "S_t = S_{t-1} \\exp(\\mu \\Delta t + \\sigma\\sqrt{\\Delta t}Z)\n",
    "$\n",
    "\n",
    "を利用しシミュレーションを行う"
   ]
  },
  {
   "cell_type": "markdown",
   "metadata": {},
   "source": [
    "### 時刻tにおける株式リターンを計算する関数作成"
   ]
  },
  {
   "cell_type": "code",
   "execution_count": 21,
   "metadata": {},
   "outputs": [],
   "source": [
    "def sim_return(mu, delta_t, sigma, Z):\n",
    "    r = mu * delta_t + sigma*np.sqrt(delta_t) * Z\n",
    "    return r"
   ]
  },
  {
   "cell_type": "markdown",
   "metadata": {},
   "source": [
    "### 変数の定義"
   ]
  },
  {
   "cell_type": "code",
   "execution_count": 2,
   "metadata": {},
   "outputs": [],
   "source": [
    "#平均μ\n",
    "mu = 0.12\n",
    "#標準偏差σ\n",
    "sigma = 0.3\n",
    "#Δt\n",
    "delta_t = 0.0833\n",
    "#当初価格\n",
    "p_t0 = 12"
   ]
  },
  {
   "cell_type": "code",
   "execution_count": 12,
   "metadata": {},
   "outputs": [],
   "source": [
    "months = np.arange(1, 13)\n",
    "prices = np.zeros(12)\n",
    "prices[0] = p_t0\n",
    "Z = np.random.randn(12)"
   ]
  },
  {
   "cell_type": "markdown",
   "metadata": {},
   "source": [
    "### 計算"
   ]
  },
  {
   "cell_type": "code",
   "execution_count": 13,
   "metadata": {},
   "outputs": [],
   "source": [
    "for i in range(1,12):\n",
    "    prices[i] = prices[i-1] * np.exp(mu*delta_t+sigma*np.sqrt(delta_t)*Z[i])"
   ]
  },
  {
   "cell_type": "code",
   "execution_count": 14,
   "metadata": {},
   "outputs": [],
   "source": [
    "df = pd.DataFrame({\"価格\":prices}, index=months)"
   ]
  },
  {
   "cell_type": "code",
   "execution_count": 15,
   "metadata": {},
   "outputs": [
    {
     "data": {
      "text/html": [
       "<div>\n",
       "<style scoped>\n",
       "    .dataframe tbody tr th:only-of-type {\n",
       "        vertical-align: middle;\n",
       "    }\n",
       "\n",
       "    .dataframe tbody tr th {\n",
       "        vertical-align: top;\n",
       "    }\n",
       "\n",
       "    .dataframe thead th {\n",
       "        text-align: right;\n",
       "    }\n",
       "</style>\n",
       "<table border=\"1\" class=\"dataframe\">\n",
       "  <thead>\n",
       "    <tr style=\"text-align: right;\">\n",
       "      <th></th>\n",
       "      <th>価格</th>\n",
       "    </tr>\n",
       "  </thead>\n",
       "  <tbody>\n",
       "    <tr>\n",
       "      <th>1</th>\n",
       "      <td>12.000000</td>\n",
       "    </tr>\n",
       "    <tr>\n",
       "      <th>2</th>\n",
       "      <td>12.117124</td>\n",
       "    </tr>\n",
       "    <tr>\n",
       "      <th>3</th>\n",
       "      <td>9.262696</td>\n",
       "    </tr>\n",
       "    <tr>\n",
       "      <th>4</th>\n",
       "      <td>9.411133</td>\n",
       "    </tr>\n",
       "    <tr>\n",
       "      <th>5</th>\n",
       "      <td>9.936272</td>\n",
       "    </tr>\n",
       "    <tr>\n",
       "      <th>6</th>\n",
       "      <td>9.690880</td>\n",
       "    </tr>\n",
       "    <tr>\n",
       "      <th>7</th>\n",
       "      <td>8.268580</td>\n",
       "    </tr>\n",
       "    <tr>\n",
       "      <th>8</th>\n",
       "      <td>8.092452</td>\n",
       "    </tr>\n",
       "    <tr>\n",
       "      <th>9</th>\n",
       "      <td>9.171142</td>\n",
       "    </tr>\n",
       "    <tr>\n",
       "      <th>10</th>\n",
       "      <td>10.396735</td>\n",
       "    </tr>\n",
       "    <tr>\n",
       "      <th>11</th>\n",
       "      <td>11.657158</td>\n",
       "    </tr>\n",
       "    <tr>\n",
       "      <th>12</th>\n",
       "      <td>10.672839</td>\n",
       "    </tr>\n",
       "  </tbody>\n",
       "</table>\n",
       "</div>"
      ],
      "text/plain": [
       "           価格\n",
       "1   12.000000\n",
       "2   12.117124\n",
       "3    9.262696\n",
       "4    9.411133\n",
       "5    9.936272\n",
       "6    9.690880\n",
       "7    8.268580\n",
       "8    8.092452\n",
       "9    9.171142\n",
       "10  10.396735\n",
       "11  11.657158\n",
       "12  10.672839"
      ]
     },
     "execution_count": 15,
     "metadata": {},
     "output_type": "execute_result"
    }
   ],
   "source": [
    "df"
   ]
  },
  {
   "cell_type": "markdown",
   "metadata": {},
   "source": [
    "# 27.3二つの株式のポートフォリオ\n",
    "$\n",
    "Z_2 = \\rho Z_1 + \\sqrt{1-\\rho^2}Z_3\n",
    "$\n",
    "の時、標準正規乱数$Z_1$と$Z_2$は相関$\\rho$を持つことを利用する。"
   ]
  },
  {
   "cell_type": "markdown",
   "metadata": {},
   "source": [
    "### 時刻tにおける株式リターンを計算する関数作成"
   ]
  },
  {
   "cell_type": "code",
   "execution_count": 7,
   "metadata": {},
   "outputs": [],
   "source": [
    "def sim_return(mu, delta_t, sigma, Z):\n",
    "    r = mu * delta_t + sigma*np.sqrt(delta_t) * Z\n",
    "    return r"
   ]
  },
  {
   "cell_type": "markdown",
   "metadata": {},
   "source": [
    "### 変数の定義"
   ]
  },
  {
   "cell_type": "code",
   "execution_count": 8,
   "metadata": {},
   "outputs": [],
   "source": [
    "#株式１、２の平均μ\n",
    "mu1 = 0.12\n",
    "mu2 = 0.15\n",
    "#株式１、２の標準偏差σ\n",
    "sigma1 = 0.22\n",
    "sigma2 = 0.3\n",
    "#相関係数ρ\n",
    "rho = 0.5\n",
    "#月次リターン 1/12 = 0.0833\n",
    "delta_t = 0.0833"
   ]
  },
  {
   "cell_type": "markdown",
   "metadata": {},
   "source": [
    "### 乱数作成"
   ]
  },
  {
   "cell_type": "code",
   "execution_count": 22,
   "metadata": {},
   "outputs": [],
   "source": [
    "Z1 = np.random.randn(12)\n",
    "Z3 = np.random.randn(12)\n",
    "Z2 = rho * Z1 + np.sqrt(1-rho**2)*Z3"
   ]
  },
  {
   "cell_type": "markdown",
   "metadata": {},
   "source": [
    "### 計算"
   ]
  },
  {
   "cell_type": "code",
   "execution_count": 23,
   "metadata": {},
   "outputs": [],
   "source": [
    "returns1 = np.zeros(12)\n",
    "returns2 = np.zeros(12)\n",
    "months = np.arange(1,13)\n",
    "\n",
    "for i in range(12):\n",
    "    returns1[i] = sim_return(mu1, delta_t, sigma1, Z1[i])\n",
    "    returns2[i] = sim_return(mu2, delta_t, sigma2, Z2[i])"
   ]
  },
  {
   "cell_type": "code",
   "execution_count": 24,
   "metadata": {},
   "outputs": [],
   "source": [
    "df = pd.DataFrame({\"株式1のリターン\":returns1, \"株式2のリターン\":returns2, \"Z1\":Z1, \"Z2\":Z2}, index=months)"
   ]
  },
  {
   "cell_type": "code",
   "execution_count": 25,
   "metadata": {},
   "outputs": [
    {
     "data": {
      "text/html": [
       "<div>\n",
       "<style scoped>\n",
       "    .dataframe tbody tr th:only-of-type {\n",
       "        vertical-align: middle;\n",
       "    }\n",
       "\n",
       "    .dataframe tbody tr th {\n",
       "        vertical-align: top;\n",
       "    }\n",
       "\n",
       "    .dataframe thead th {\n",
       "        text-align: right;\n",
       "    }\n",
       "</style>\n",
       "<table border=\"1\" class=\"dataframe\">\n",
       "  <thead>\n",
       "    <tr style=\"text-align: right;\">\n",
       "      <th></th>\n",
       "      <th>株式1のリターン</th>\n",
       "      <th>株式2のリターン</th>\n",
       "      <th>Z1</th>\n",
       "      <th>Z2</th>\n",
       "    </tr>\n",
       "  </thead>\n",
       "  <tbody>\n",
       "    <tr>\n",
       "      <th>1</th>\n",
       "      <td>-0.028090</td>\n",
       "      <td>0.083914</td>\n",
       "      <td>-0.599822</td>\n",
       "      <td>0.824839</td>\n",
       "    </tr>\n",
       "    <tr>\n",
       "      <th>2</th>\n",
       "      <td>0.084823</td>\n",
       "      <td>-0.140322</td>\n",
       "      <td>1.178450</td>\n",
       "      <td>-1.764937</td>\n",
       "    </tr>\n",
       "    <tr>\n",
       "      <th>3</th>\n",
       "      <td>0.071709</td>\n",
       "      <td>-0.010487</td>\n",
       "      <td>0.971922</td>\n",
       "      <td>-0.265426</td>\n",
       "    </tr>\n",
       "    <tr>\n",
       "      <th>4</th>\n",
       "      <td>0.082291</td>\n",
       "      <td>0.142596</td>\n",
       "      <td>1.138580</td>\n",
       "      <td>1.502579</td>\n",
       "    </tr>\n",
       "    <tr>\n",
       "      <th>5</th>\n",
       "      <td>0.007564</td>\n",
       "      <td>-0.025387</td>\n",
       "      <td>-0.038307</td>\n",
       "      <td>-0.437517</td>\n",
       "    </tr>\n",
       "    <tr>\n",
       "      <th>6</th>\n",
       "      <td>0.033727</td>\n",
       "      <td>0.028457</td>\n",
       "      <td>0.373748</td>\n",
       "      <td>0.184345</td>\n",
       "    </tr>\n",
       "    <tr>\n",
       "      <th>7</th>\n",
       "      <td>-0.005583</td>\n",
       "      <td>-0.047243</td>\n",
       "      <td>-0.245353</td>\n",
       "      <td>-0.689931</td>\n",
       "    </tr>\n",
       "    <tr>\n",
       "      <th>8</th>\n",
       "      <td>-0.033744</td>\n",
       "      <td>-0.055345</td>\n",
       "      <td>-0.688872</td>\n",
       "      <td>-0.783507</td>\n",
       "    </tr>\n",
       "    <tr>\n",
       "      <th>9</th>\n",
       "      <td>0.063410</td>\n",
       "      <td>0.099306</td>\n",
       "      <td>0.841227</td>\n",
       "      <td>1.002613</td>\n",
       "    </tr>\n",
       "    <tr>\n",
       "      <th>10</th>\n",
       "      <td>0.049775</td>\n",
       "      <td>-0.043732</td>\n",
       "      <td>0.626475</td>\n",
       "      <td>-0.649382</td>\n",
       "    </tr>\n",
       "    <tr>\n",
       "      <th>11</th>\n",
       "      <td>-0.074230</td>\n",
       "      <td>0.037343</td>\n",
       "      <td>-1.326488</td>\n",
       "      <td>0.286980</td>\n",
       "    </tr>\n",
       "    <tr>\n",
       "      <th>12</th>\n",
       "      <td>0.063788</td>\n",
       "      <td>0.167631</td>\n",
       "      <td>0.847167</td>\n",
       "      <td>1.791716</td>\n",
       "    </tr>\n",
       "  </tbody>\n",
       "</table>\n",
       "</div>"
      ],
      "text/plain": [
       "    株式1のリターン  株式2のリターン        Z1        Z2\n",
       "1  -0.028090  0.083914 -0.599822  0.824839\n",
       "2   0.084823 -0.140322  1.178450 -1.764937\n",
       "3   0.071709 -0.010487  0.971922 -0.265426\n",
       "4   0.082291  0.142596  1.138580  1.502579\n",
       "5   0.007564 -0.025387 -0.038307 -0.437517\n",
       "6   0.033727  0.028457  0.373748  0.184345\n",
       "7  -0.005583 -0.047243 -0.245353 -0.689931\n",
       "8  -0.033744 -0.055345 -0.688872 -0.783507\n",
       "9   0.063410  0.099306  0.841227  1.002613\n",
       "10  0.049775 -0.043732  0.626475 -0.649382\n",
       "11 -0.074230  0.037343 -1.326488  0.286980\n",
       "12  0.063788  0.167631  0.847167  1.791716"
      ]
     },
     "execution_count": 25,
     "metadata": {},
     "output_type": "execute_result"
    }
   ],
   "source": [
    "df"
   ]
  },
  {
   "cell_type": "markdown",
   "metadata": {},
   "source": [
    "### ポートフォリオのシミュレーション"
   ]
  },
  {
   "cell_type": "code",
   "execution_count": 29,
   "metadata": {},
   "outputs": [
    {
     "name": "stdout",
     "output_type": "stream",
     "text": [
      "期間末の価値：  12930.395752841438\n",
      "期待リターン:  0.1425\n",
      "実際のリターン:  0.25699570665631677\n",
      "リターンの標準偏差:  0.25695330315059195\n"
     ]
    }
   ],
   "source": [
    "#初期条件\n",
    "assets0 = 10000\n",
    "stock1_ratio = 0.25\n",
    "\n",
    "#上のシミュレーションに基づく結果\n",
    "#期間末の価値\n",
    "assets_after = assets0*stock1_ratio*np.exp(df[\"株式1のリターン\"].sum()) + assets0*(1-stock1_ratio)*np.exp(df[\"株式2のリターン\"].sum())\n",
    "#期待リターン\n",
    "expected_return = stock1_ratio*mu1 + (1-stock1_ratio)*mu2\n",
    "#実際のリターン\n",
    "real_return = np.log(assets_after/assets0)\n",
    "#リターンの標準偏差\n",
    "std_return = np.sqrt((stock1_ratio**2)*(sigma1**2) + 2*stock1_ratio*(1-stock1_ratio)*rho*sigma1*sigma2 + ((1-stock1_ratio)**2)*(sigma2**2))\n",
    "\n",
    "print(\"期間末の価値： \",assets_after)\n",
    "print(\"期待リターン: \",expected_return)\n",
    "print(\"実際のリターン: \",real_return)\n",
    "print(\"リターンの標準偏差: \",std_return)\n"
   ]
  },
  {
   "cell_type": "markdown",
   "metadata": {},
   "source": [
    "# 27.4無リスク資産を加える\n",
    "前節のデータに無リスク資産を加えて、２つのリスキーな株式と無リスク資産からなるポートフォリオのシミュレーションを行う"
   ]
  },
  {
   "cell_type": "markdown",
   "metadata": {},
   "source": [
    "##### 以下、前節のコピー"
   ]
  },
  {
   "cell_type": "code",
   "execution_count": 43,
   "metadata": {},
   "outputs": [],
   "source": [
    "def sim_return(mu, delta_t, sigma, Z):\n",
    "    r = mu * delta_t + sigma*np.sqrt(delta_t) * Z\n",
    "    return r\n",
    "\n",
    "#株式１、２の平均μ\n",
    "mu1 = 0.12\n",
    "mu2 = 0.15\n",
    "#株式１、２の標準偏差σ\n",
    "sigma1 = 0.22\n",
    "sigma2 = 0.3\n",
    "#相関係数ρ\n",
    "rho = 0.5\n",
    "#月次リターン 1/12 = 0.0833\n",
    "delta_t = 0.0833\n",
    "\n",
    "Z1 = np.random.randn(12)\n",
    "Z3 = np.random.randn(12)\n",
    "Z2 = rho * Z1 + np.sqrt(1-rho**2)*Z3\n",
    "\n",
    "returns1 = np.zeros(12)\n",
    "returns2 = np.zeros(12)\n",
    "months = np.arange(1,13)\n",
    "\n",
    "for i in range(12):\n",
    "    returns1[i] = sim_return(mu1, delta_t, sigma1, Z1[i])\n",
    "    returns2[i] = sim_return(mu2, delta_t, sigma2, Z2[i])\n",
    "\n",
    "df_risk = pd.DataFrame({\"株式1のリターン\":returns1, \"株式2のリターン\":returns2, \"Z1\":Z1, \"Z2\":Z2}, index=months)"
   ]
  },
  {
   "cell_type": "code",
   "execution_count": 44,
   "metadata": {},
   "outputs": [
    {
     "data": {
      "text/html": [
       "<div>\n",
       "<style scoped>\n",
       "    .dataframe tbody tr th:only-of-type {\n",
       "        vertical-align: middle;\n",
       "    }\n",
       "\n",
       "    .dataframe tbody tr th {\n",
       "        vertical-align: top;\n",
       "    }\n",
       "\n",
       "    .dataframe thead th {\n",
       "        text-align: right;\n",
       "    }\n",
       "</style>\n",
       "<table border=\"1\" class=\"dataframe\">\n",
       "  <thead>\n",
       "    <tr style=\"text-align: right;\">\n",
       "      <th></th>\n",
       "      <th>株式1のリターン</th>\n",
       "      <th>株式2のリターン</th>\n",
       "      <th>Z1</th>\n",
       "      <th>Z2</th>\n",
       "    </tr>\n",
       "  </thead>\n",
       "  <tbody>\n",
       "    <tr>\n",
       "      <th>1</th>\n",
       "      <td>0.053370</td>\n",
       "      <td>-0.036884</td>\n",
       "      <td>0.683104</td>\n",
       "      <td>-0.570294</td>\n",
       "    </tr>\n",
       "    <tr>\n",
       "      <th>2</th>\n",
       "      <td>0.065955</td>\n",
       "      <td>-0.004651</td>\n",
       "      <td>0.881303</td>\n",
       "      <td>-0.198022</td>\n",
       "    </tr>\n",
       "    <tr>\n",
       "      <th>3</th>\n",
       "      <td>0.036228</td>\n",
       "      <td>0.051758</td>\n",
       "      <td>0.413133</td>\n",
       "      <td>0.453464</td>\n",
       "    </tr>\n",
       "    <tr>\n",
       "      <th>4</th>\n",
       "      <td>0.003002</td>\n",
       "      <td>-0.101561</td>\n",
       "      <td>-0.110144</td>\n",
       "      <td>-1.317265</td>\n",
       "    </tr>\n",
       "    <tr>\n",
       "      <th>5</th>\n",
       "      <td>-0.033591</td>\n",
       "      <td>0.053811</td>\n",
       "      <td>-0.686448</td>\n",
       "      <td>0.477172</td>\n",
       "    </tr>\n",
       "    <tr>\n",
       "      <th>6</th>\n",
       "      <td>0.029475</td>\n",
       "      <td>0.081997</td>\n",
       "      <td>0.306783</td>\n",
       "      <td>0.802706</td>\n",
       "    </tr>\n",
       "    <tr>\n",
       "      <th>7</th>\n",
       "      <td>0.063446</td>\n",
       "      <td>0.103092</td>\n",
       "      <td>0.841794</td>\n",
       "      <td>1.046339</td>\n",
       "    </tr>\n",
       "    <tr>\n",
       "      <th>8</th>\n",
       "      <td>0.058288</td>\n",
       "      <td>-0.018761</td>\n",
       "      <td>0.760556</td>\n",
       "      <td>-0.360985</td>\n",
       "    </tr>\n",
       "    <tr>\n",
       "      <th>9</th>\n",
       "      <td>0.071033</td>\n",
       "      <td>0.105157</td>\n",
       "      <td>0.961277</td>\n",
       "      <td>1.070183</td>\n",
       "    </tr>\n",
       "    <tr>\n",
       "      <th>10</th>\n",
       "      <td>0.056262</td>\n",
       "      <td>-0.047297</td>\n",
       "      <td>0.728646</td>\n",
       "      <td>-0.690559</td>\n",
       "    </tr>\n",
       "    <tr>\n",
       "      <th>11</th>\n",
       "      <td>0.084303</td>\n",
       "      <td>0.188674</td>\n",
       "      <td>1.170263</td>\n",
       "      <td>2.034748</td>\n",
       "    </tr>\n",
       "    <tr>\n",
       "      <th>12</th>\n",
       "      <td>-0.059813</td>\n",
       "      <td>-0.068379</td>\n",
       "      <td>-1.099432</td>\n",
       "      <td>-0.934044</td>\n",
       "    </tr>\n",
       "  </tbody>\n",
       "</table>\n",
       "</div>"
      ],
      "text/plain": [
       "    株式1のリターン  株式2のリターン        Z1        Z2\n",
       "1   0.053370 -0.036884  0.683104 -0.570294\n",
       "2   0.065955 -0.004651  0.881303 -0.198022\n",
       "3   0.036228  0.051758  0.413133  0.453464\n",
       "4   0.003002 -0.101561 -0.110144 -1.317265\n",
       "5  -0.033591  0.053811 -0.686448  0.477172\n",
       "6   0.029475  0.081997  0.306783  0.802706\n",
       "7   0.063446  0.103092  0.841794  1.046339\n",
       "8   0.058288 -0.018761  0.760556 -0.360985\n",
       "9   0.071033  0.105157  0.961277  1.070183\n",
       "10  0.056262 -0.047297  0.728646 -0.690559\n",
       "11  0.084303  0.188674  1.170263  2.034748\n",
       "12 -0.059813 -0.068379 -1.099432 -0.934044"
      ]
     },
     "execution_count": 44,
     "metadata": {},
     "output_type": "execute_result"
    }
   ],
   "source": [
    "df_risk"
   ]
  },
  {
   "cell_type": "markdown",
   "metadata": {},
   "source": [
    "### リスク資産のみでのポートフォリオ"
   ]
  },
  {
   "cell_type": "code",
   "execution_count": 45,
   "metadata": {},
   "outputs": [],
   "source": [
    "#初期条件\n",
    "stock1_ratio = 0.25 #株式１の割合\n",
    "\n",
    "#期待リターン\n",
    "expected_return_risk = stock1_ratio*mu1 + (1-stock1_ratio)*mu2\n",
    "#実際のリターン\n",
    "real_return_risk = np.log(assets_after/assets0)\n",
    "#リターンの予測標準偏差\n",
    "expected_std_risk = np.sqrt((stock1_ratio**2)*(sigma1**2) + 2*stock1_ratio*(1-stock1_ratio)*rho*sigma1*sigma2 + ((1-stock1_ratio)**2)*(sigma2**2))\n",
    "\n"
   ]
  },
  {
   "cell_type": "markdown",
   "metadata": {},
   "source": [
    "### 無リスク資産を加えたポートフォリオ"
   ]
  },
  {
   "cell_type": "code",
   "execution_count": 46,
   "metadata": {},
   "outputs": [],
   "source": [
    "#初期条件\n",
    "nonrisk_ratio = 0.6 #無リスク資産の割合\n",
    "rf = 0.03  #無リスク金利"
   ]
  },
  {
   "cell_type": "code",
   "execution_count": 47,
   "metadata": {},
   "outputs": [],
   "source": [
    "df_portfolio = df_risk\n",
    "df_portfolio[\"無リスク資産のリターン\"]=rf\n",
    "df_portfolio[\"ポートフォリオのリターン\"] = (df_portfolio[\"株式1のリターン\"]*stock1_ratio + df_portfolio[\"株式2のリターン\"]*(1-stock1_ratio))*(1-nonrisk_ratio) + df_portfolio[\"無リスク資産のリターン\"]*nonrisk_ratio"
   ]
  },
  {
   "cell_type": "code",
   "execution_count": 48,
   "metadata": {},
   "outputs": [
    {
     "data": {
      "text/html": [
       "<div>\n",
       "<style scoped>\n",
       "    .dataframe tbody tr th:only-of-type {\n",
       "        vertical-align: middle;\n",
       "    }\n",
       "\n",
       "    .dataframe tbody tr th {\n",
       "        vertical-align: top;\n",
       "    }\n",
       "\n",
       "    .dataframe thead th {\n",
       "        text-align: right;\n",
       "    }\n",
       "</style>\n",
       "<table border=\"1\" class=\"dataframe\">\n",
       "  <thead>\n",
       "    <tr style=\"text-align: right;\">\n",
       "      <th></th>\n",
       "      <th>株式1のリターン</th>\n",
       "      <th>株式2のリターン</th>\n",
       "      <th>Z1</th>\n",
       "      <th>Z2</th>\n",
       "      <th>無リスク資産のリターン</th>\n",
       "      <th>ポートフォリオのリターン</th>\n",
       "    </tr>\n",
       "  </thead>\n",
       "  <tbody>\n",
       "    <tr>\n",
       "      <th>1</th>\n",
       "      <td>0.053370</td>\n",
       "      <td>-0.036884</td>\n",
       "      <td>0.683104</td>\n",
       "      <td>-0.570294</td>\n",
       "      <td>0.03</td>\n",
       "      <td>0.012272</td>\n",
       "    </tr>\n",
       "    <tr>\n",
       "      <th>2</th>\n",
       "      <td>0.065955</td>\n",
       "      <td>-0.004651</td>\n",
       "      <td>0.881303</td>\n",
       "      <td>-0.198022</td>\n",
       "      <td>0.03</td>\n",
       "      <td>0.023200</td>\n",
       "    </tr>\n",
       "    <tr>\n",
       "      <th>3</th>\n",
       "      <td>0.036228</td>\n",
       "      <td>0.051758</td>\n",
       "      <td>0.413133</td>\n",
       "      <td>0.453464</td>\n",
       "      <td>0.03</td>\n",
       "      <td>0.037150</td>\n",
       "    </tr>\n",
       "    <tr>\n",
       "      <th>4</th>\n",
       "      <td>0.003002</td>\n",
       "      <td>-0.101561</td>\n",
       "      <td>-0.110144</td>\n",
       "      <td>-1.317265</td>\n",
       "      <td>0.03</td>\n",
       "      <td>-0.012168</td>\n",
       "    </tr>\n",
       "    <tr>\n",
       "      <th>5</th>\n",
       "      <td>-0.033591</td>\n",
       "      <td>0.053811</td>\n",
       "      <td>-0.686448</td>\n",
       "      <td>0.477172</td>\n",
       "      <td>0.03</td>\n",
       "      <td>0.030784</td>\n",
       "    </tr>\n",
       "    <tr>\n",
       "      <th>6</th>\n",
       "      <td>0.029475</td>\n",
       "      <td>0.081997</td>\n",
       "      <td>0.306783</td>\n",
       "      <td>0.802706</td>\n",
       "      <td>0.03</td>\n",
       "      <td>0.045547</td>\n",
       "    </tr>\n",
       "    <tr>\n",
       "      <th>7</th>\n",
       "      <td>0.063446</td>\n",
       "      <td>0.103092</td>\n",
       "      <td>0.841794</td>\n",
       "      <td>1.046339</td>\n",
       "      <td>0.03</td>\n",
       "      <td>0.055272</td>\n",
       "    </tr>\n",
       "    <tr>\n",
       "      <th>8</th>\n",
       "      <td>0.058288</td>\n",
       "      <td>-0.018761</td>\n",
       "      <td>0.760556</td>\n",
       "      <td>-0.360985</td>\n",
       "      <td>0.03</td>\n",
       "      <td>0.018201</td>\n",
       "    </tr>\n",
       "    <tr>\n",
       "      <th>9</th>\n",
       "      <td>0.071033</td>\n",
       "      <td>0.105157</td>\n",
       "      <td>0.961277</td>\n",
       "      <td>1.070183</td>\n",
       "      <td>0.03</td>\n",
       "      <td>0.056650</td>\n",
       "    </tr>\n",
       "    <tr>\n",
       "      <th>10</th>\n",
       "      <td>0.056262</td>\n",
       "      <td>-0.047297</td>\n",
       "      <td>0.728646</td>\n",
       "      <td>-0.690559</td>\n",
       "      <td>0.03</td>\n",
       "      <td>0.009437</td>\n",
       "    </tr>\n",
       "    <tr>\n",
       "      <th>11</th>\n",
       "      <td>0.084303</td>\n",
       "      <td>0.188674</td>\n",
       "      <td>1.170263</td>\n",
       "      <td>2.034748</td>\n",
       "      <td>0.03</td>\n",
       "      <td>0.083033</td>\n",
       "    </tr>\n",
       "    <tr>\n",
       "      <th>12</th>\n",
       "      <td>-0.059813</td>\n",
       "      <td>-0.068379</td>\n",
       "      <td>-1.099432</td>\n",
       "      <td>-0.934044</td>\n",
       "      <td>0.03</td>\n",
       "      <td>-0.008495</td>\n",
       "    </tr>\n",
       "  </tbody>\n",
       "</table>\n",
       "</div>"
      ],
      "text/plain": [
       "    株式1のリターン  株式2のリターン        Z1        Z2  無リスク資産のリターン  ポートフォリオのリターン\n",
       "1   0.053370 -0.036884  0.683104 -0.570294         0.03      0.012272\n",
       "2   0.065955 -0.004651  0.881303 -0.198022         0.03      0.023200\n",
       "3   0.036228  0.051758  0.413133  0.453464         0.03      0.037150\n",
       "4   0.003002 -0.101561 -0.110144 -1.317265         0.03     -0.012168\n",
       "5  -0.033591  0.053811 -0.686448  0.477172         0.03      0.030784\n",
       "6   0.029475  0.081997  0.306783  0.802706         0.03      0.045547\n",
       "7   0.063446  0.103092  0.841794  1.046339         0.03      0.055272\n",
       "8   0.058288 -0.018761  0.760556 -0.360985         0.03      0.018201\n",
       "9   0.071033  0.105157  0.961277  1.070183         0.03      0.056650\n",
       "10  0.056262 -0.047297  0.728646 -0.690559         0.03      0.009437\n",
       "11  0.084303  0.188674  1.170263  2.034748         0.03      0.083033\n",
       "12 -0.059813 -0.068379 -1.099432 -0.934044         0.03     -0.008495"
      ]
     },
     "execution_count": 48,
     "metadata": {},
     "output_type": "execute_result"
    }
   ],
   "source": [
    "df_portfolio"
   ]
  },
  {
   "cell_type": "code",
   "execution_count": 49,
   "metadata": {},
   "outputs": [
    {
     "name": "stdout",
     "output_type": "stream",
     "text": [
      "期待リターン：  0.075\n",
      "実際のリターン:  0.35088320796773714\n",
      "リターンの予測標準偏差: 0.10278132126023679\n",
      "リターンの実際の標準偏差:  0.02925607244830908\n"
     ]
    }
   ],
   "source": [
    "#期待リターン\n",
    "expected_return = nonrisk_ratio*rf + (1-nonrisk_ratio)*expected_return_risk\n",
    "#実際のリターン\n",
    "real_return = df_portfolio[\"ポートフォリオのリターン\"].sum()\n",
    "#リターンの予測標準偏差\n",
    "expected_std = (1-nonrisk_ratio) * expected_std_risk\n",
    "#リターンの実際の標準偏差\n",
    "std = df_portfolio[\"ポートフォリオのリターン\"].std() * np.sqrt(12) / np.sqrt(11)\n",
    "\n",
    "print(\"期待リターン： \",expected_return)\n",
    "print(\"実際のリターン: \",real_return)\n",
    "print(\"リターンの予測標準偏差:\", expected_std)\n",
    "print(\"リターンの実際の標準偏差: \",std)"
   ]
  },
  {
   "cell_type": "markdown",
   "metadata": {},
   "source": [
    "# 27.7ベータとリターン\n",
    "以下の数式を用いて$\\alpha$, $\\beta$, $R^2$の理論値と実際の値とを求める\n",
    "\n",
    "$$\n",
    "\\beta_i = \\frac{Cov(r_i,r_M)}{Var(r_M)} = \\frac{\\rho \\sigma_1 \\sigma_M}{\\sigma_m^2} = \\frac{\\rho \\sigma_i}{\\sigma_M}\n",
    "$$\n",
    "\n",
    "$$\n",
    "\\begin{align*}\n",
    "r_{i,t} = \\alpha_i + \\beta_i r_{Mt}\n",
    "\\end{align*}\n",
    "$$\n",
    "\n",
    "$$\n",
    "\\begin{align*}\n",
    "&\\alpha_i = E(r_M) - \\beta_i E(r_i)\\\\\n",
    "&\\beta_i = \\frac{\\rho \\sigma_i}{\\sigma_M}\\\\   \n",
    "&R^2 = \\rho ^2\\\\\n",
    "\\end{align*}\n",
    "$$"
   ]
  },
  {
   "cell_type": "code",
   "execution_count": 6,
   "metadata": {},
   "outputs": [],
   "source": [
    "from sklearn.linear_model import LinearRegression\n",
    "#初期設定\n",
    "mu_i = 0.06 #株式iの平均\n",
    "sigma_i = 0.22 #株式iの標準偏差\n",
    "mu_m = 0.1#マーケットの平均\n",
    "sigma_m = 0.15 #マーケットの標準偏差\n",
    "rho = 0.3 #iとMの相関"
   ]
  },
  {
   "cell_type": "code",
   "execution_count": 5,
   "metadata": {},
   "outputs": [],
   "source": [
    "#予想beta\n",
    "betai_est = rho * sigma_i / sigme_m\n",
    "#予想alpha\n",
    "alphai_est = mu_i - betai_est*mu_m\n",
    "#予想R^2\n",
    "R2_est = rho**2"
   ]
  },
  {
   "cell_type": "code",
   "execution_count": 40,
   "metadata": {},
   "outputs": [],
   "source": [
    "#乱数発生(27.3参照)\n",
    "Z1 = np.random.randn(60)\n",
    "Z3 = np.random.randn(60)\n",
    "Z2 = rho * Z1 + np.sqrt(1-rho**2)*Z3\n",
    "ret = mu_i + sigma_i*Z1*np.sqrt(1/12)\n",
    "market = mu_m + sigma_m*Z2*np.sqrt(1/12)\n",
    "\n",
    "df = pd.DataFrame({\"Z1\":Z1,\n",
    "                  \"Z2\":Z2,\n",
    "                  \"return\":ret,\n",
    "                  \"market\":market},\n",
    "                 index = range(1,61))"
   ]
  },
  {
   "cell_type": "code",
   "execution_count": 41,
   "metadata": {},
   "outputs": [],
   "source": [
    "#df"
   ]
  },
  {
   "cell_type": "code",
   "execution_count": 42,
   "metadata": {},
   "outputs": [],
   "source": [
    "model = LinearRegression()\n",
    "model.fit(ret.reshape([-1,1]),market)\n",
    "alphai = model.intercept_\n",
    "betai = model.coef_[0]\n",
    "R2 = model.score(ret.reshape([-1,1]),market)"
   ]
  },
  {
   "cell_type": "code",
   "execution_count": 43,
   "metadata": {},
   "outputs": [
    {
     "name": "stdout",
     "output_type": "stream",
     "text": [
      "αの予想値:  0.015999999999999986   実際のα:  0.0803873100252558\n",
      "βの予想値:  0.44000000000000006   実際のβ:  0.2924086778516175\n",
      "R^2の予想値:  0.09   実際のR^2:  0.2137267480173688\n"
     ]
    }
   ],
   "source": [
    "print(\"αの予想値: \", alphai_est,\"  実際のα: \", alphai)\n",
    "print(\"βの予想値: \", betai_est, \"  実際のβ: \",betai)\n",
    "print(\"R^2の予想値: \", R2_est, \"  実際のR^2: \", R2)"
   ]
  },
  {
   "cell_type": "markdown",
   "metadata": {},
   "source": [
    "実行するたびに実際の値が変わる。理論値と近いこともあれば、全く離れていることもある。"
   ]
  },
  {
   "cell_type": "markdown",
   "metadata": {},
   "source": [
    "### シミュレーションを50回行う"
   ]
  },
  {
   "cell_type": "code",
   "execution_count": 75,
   "metadata": {},
   "outputs": [],
   "source": [
    "betas = []\n",
    "for i in range(50):\n",
    "    Z1 = np.random.randn(60)\n",
    "    Z3 = np.random.randn(60)\n",
    "    Z2 = rho * Z1 + np.sqrt(1-rho**2)*Z3\n",
    "    ret = mu_i + sigma_i*Z1*np.sqrt(1/12)\n",
    "    market = mu_m + sigma_m*Z2*np.sqrt(1/12)\n",
    "    model.fit(ret.reshape([-1,1]),market)\n",
    "    #alphai = model.intercept_\n",
    "    betai = model.coef_[0]\n",
    "    #R2 = model.score(ret.reshape([-1,1]),market)\n",
    "    betas.append(betai)"
   ]
  },
  {
   "cell_type": "code",
   "execution_count": 76,
   "metadata": {},
   "outputs": [
    {
     "data": {
      "text/plain": [
       "<matplotlib.collections.LineCollection at 0x1a1ea6ac88>"
      ]
     },
     "execution_count": 76,
     "metadata": {},
     "output_type": "execute_result"
    },
    {
     "data": {
      "image/png": "[encoded data removed]",
      "text/plain": [
       "<Figure size 432x288 with 1 Axes>"
      ]
     },
     "metadata": {
      "needs_background": "light"
     },
     "output_type": "display_data"
    }
   ],
   "source": [
    "plt.plot(betas)\n",
    "plt.hlines([betai_est],0,50,color=\"red\",linestyle=\"dashed\")"
   ]
  }
 ],
 "metadata": {
  "kernelspec": {
   "display_name": "Python 3",
   "language": "python",
   "name": "python3"
  },
  "language_info": {
   "codemirror_mode": {
    "name": "ipython",
    "version": 3
   },
   "file_extension": ".py",
   "mimetype": "text/x-python",
   "name": "python",
   "nbconvert_exporter": "python",
   "pygments_lexer": "ipython3",
   "version": "3.7.3"
  }
 },
 "nbformat": 4,
 "nbformat_minor": 2
}
